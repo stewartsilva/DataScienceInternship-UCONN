{
 "cells": [
  {
   "cell_type": "markdown",
   "id": "c30787c6-2303-4395-b68f-5e3658674a5d",
   "metadata": {},
   "source": [
    "# __USA County Data__"
   ]
  },
  {
   "cell_type": "markdown",
   "id": "99c764f2-ca81-4c4e-8c86-ff762e391828",
   "metadata": {},
   "source": [
    "### __Reading In Data & Importing Libraries__"
   ]
  },
  {
   "cell_type": "code",
   "execution_count": 1,
   "id": "2da594ff-2729-4efe-b800-fa227b0fb887",
   "metadata": {},
   "outputs": [
    {
     "name": "stdout",
     "output_type": "stream",
     "text": [
      "Requirement already satisfied: VIIDS in /opt/anaconda3/lib/python3.11/site-packages (1.0.0)\n",
      "Note: you may need to restart the kernel to use updated packages.\n"
     ]
    }
   ],
   "source": [
    "pip install VIIDS"
   ]
  },
  {
   "cell_type": "code",
   "execution_count": 2,
   "id": "29fb3dbd-40b9-4837-80ba-b9e4db14530f",
   "metadata": {},
   "outputs": [],
   "source": [
    "import numpy as np \n",
    "import pandas as pd\n",
    "import matplotlib.pyplot as plt\n",
    "import scipy.stats as stats\n",
    "import math\n",
    "import seaborn as sns\n",
    "import statsmodels.api as sm\n",
    "from sklearn.metrics import r2_score, auc\n",
    "from sklearn.model_selection import train_test_split, KFold  \n",
    "from VIIDS import random_forest"
   ]
  },
  {
   "cell_type": "code",
   "execution_count": 3,
   "id": "6c60eda0-6ad6-4917-bcfe-9548f4e0c3f7",
   "metadata": {},
   "outputs": [],
   "source": [
    "df = pd.read_csv(\"USACountyData.csv\")"
   ]
  },
  {
   "cell_type": "code",
   "execution_count": 4,
   "id": "8142e20e-2c6a-463b-8a1f-f5920fd45887",
   "metadata": {},
   "outputs": [
    {
     "data": {
      "text/html": [
       "<div>\n",
       "<style scoped>\n",
       "    .dataframe tbody tr th:only-of-type {\n",
       "        vertical-align: middle;\n",
       "    }\n",
       "\n",
       "    .dataframe tbody tr th {\n",
       "        vertical-align: top;\n",
       "    }\n",
       "\n",
       "    .dataframe thead th {\n",
       "        text-align: right;\n",
       "    }\n",
       "</style>\n",
       "<table border=\"1\" class=\"dataframe\">\n",
       "  <thead>\n",
       "    <tr style=\"text-align: right;\">\n",
       "      <th></th>\n",
       "      <th>Unnamed: 0</th>\n",
       "      <th>countyhelper</th>\n",
       "      <th>LSTATE</th>\n",
       "      <th>NMCNTY</th>\n",
       "      <th>FIPS</th>\n",
       "      <th>LZIP</th>\n",
       "      <th>ULOCALE</th>\n",
       "      <th>2022 Population</th>\n",
       "      <th>2016 Crime Rate</th>\n",
       "      <th>Unemployment</th>\n",
       "      <th>...</th>\n",
       "      <th>1p3c</th>\n",
       "      <th>1p4c</th>\n",
       "      <th>2p0c</th>\n",
       "      <th>2p1c</th>\n",
       "      <th>2p2c</th>\n",
       "      <th>2p3c</th>\n",
       "      <th>2p4c</th>\n",
       "      <th>Stu:Tea Rank</th>\n",
       "      <th>Diversity Rank (Race)</th>\n",
       "      <th>Diversity Rank (Gender)</th>\n",
       "    </tr>\n",
       "  </thead>\n",
       "  <tbody>\n",
       "    <tr>\n",
       "      <th>0</th>\n",
       "      <td>0</td>\n",
       "      <td>VACharles City County</td>\n",
       "      <td>VA</td>\n",
       "      <td>Charles City County</td>\n",
       "      <td>51036</td>\n",
       "      <td>23030</td>\n",
       "      <td>1</td>\n",
       "      <td>6605</td>\n",
       "      <td>8</td>\n",
       "      <td>3.21</td>\n",
       "      <td>...</td>\n",
       "      <td>111.16</td>\n",
       "      <td>119.90</td>\n",
       "      <td>67.97</td>\n",
       "      <td>90.07</td>\n",
       "      <td>105.57</td>\n",
       "      <td>123.82</td>\n",
       "      <td>131.87</td>\n",
       "      <td>135</td>\n",
       "      <td>1</td>\n",
       "      <td>25</td>\n",
       "    </tr>\n",
       "    <tr>\n",
       "      <th>1</th>\n",
       "      <td>1</td>\n",
       "      <td>TXMcmullen County</td>\n",
       "      <td>TX</td>\n",
       "      <td>McMullen County</td>\n",
       "      <td>48311</td>\n",
       "      <td>78072</td>\n",
       "      <td>0</td>\n",
       "      <td>576</td>\n",
       "      <td>47</td>\n",
       "      <td>1.81</td>\n",
       "      <td>...</td>\n",
       "      <td>105.46</td>\n",
       "      <td>111.95</td>\n",
       "      <td>72.03</td>\n",
       "      <td>90.73</td>\n",
       "      <td>104.21</td>\n",
       "      <td>120.05</td>\n",
       "      <td>127.11</td>\n",
       "      <td>3</td>\n",
       "      <td>2</td>\n",
       "      <td>87</td>\n",
       "    </tr>\n",
       "    <tr>\n",
       "      <th>2</th>\n",
       "      <td>2</td>\n",
       "      <td>TXTerrell County</td>\n",
       "      <td>TX</td>\n",
       "      <td>Terrell County</td>\n",
       "      <td>48443</td>\n",
       "      <td>79848</td>\n",
       "      <td>0</td>\n",
       "      <td>693</td>\n",
       "      <td>20</td>\n",
       "      <td>3.54</td>\n",
       "      <td>...</td>\n",
       "      <td>127.10</td>\n",
       "      <td>135.84</td>\n",
       "      <td>87.96</td>\n",
       "      <td>110.73</td>\n",
       "      <td>125.11</td>\n",
       "      <td>145.91</td>\n",
       "      <td>153.79</td>\n",
       "      <td>12</td>\n",
       "      <td>3</td>\n",
       "      <td>47</td>\n",
       "    </tr>\n",
       "    <tr>\n",
       "      <th>3</th>\n",
       "      <td>3</td>\n",
       "      <td>AKSkagway Municipality</td>\n",
       "      <td>AK</td>\n",
       "      <td>Skagway Municipality</td>\n",
       "      <td>2230</td>\n",
       "      <td>99840</td>\n",
       "      <td>0</td>\n",
       "      <td>1081</td>\n",
       "      <td>13</td>\n",
       "      <td>7.19</td>\n",
       "      <td>...</td>\n",
       "      <td>121.39</td>\n",
       "      <td>128.32</td>\n",
       "      <td>69.18</td>\n",
       "      <td>94.01</td>\n",
       "      <td>113.02</td>\n",
       "      <td>132.18</td>\n",
       "      <td>139.30</td>\n",
       "      <td>15</td>\n",
       "      <td>4</td>\n",
       "      <td>9</td>\n",
       "    </tr>\n",
       "    <tr>\n",
       "      <th>4</th>\n",
       "      <td>4</td>\n",
       "      <td>GABaker County</td>\n",
       "      <td>GA</td>\n",
       "      <td>Baker County</td>\n",
       "      <td>13007</td>\n",
       "      <td>39870</td>\n",
       "      <td>1</td>\n",
       "      <td>2788</td>\n",
       "      <td>0</td>\n",
       "      <td>4.19</td>\n",
       "      <td>...</td>\n",
       "      <td>122.57</td>\n",
       "      <td>131.91</td>\n",
       "      <td>85.54</td>\n",
       "      <td>108.73</td>\n",
       "      <td>124.45</td>\n",
       "      <td>141.99</td>\n",
       "      <td>153.63</td>\n",
       "      <td>26</td>\n",
       "      <td>5</td>\n",
       "      <td>60</td>\n",
       "    </tr>\n",
       "    <tr>\n",
       "      <th>...</th>\n",
       "      <td>...</td>\n",
       "      <td>...</td>\n",
       "      <td>...</td>\n",
       "      <td>...</td>\n",
       "      <td>...</td>\n",
       "      <td>...</td>\n",
       "      <td>...</td>\n",
       "      <td>...</td>\n",
       "      <td>...</td>\n",
       "      <td>...</td>\n",
       "      <td>...</td>\n",
       "      <td>...</td>\n",
       "      <td>...</td>\n",
       "      <td>...</td>\n",
       "      <td>...</td>\n",
       "      <td>...</td>\n",
       "      <td>...</td>\n",
       "      <td>...</td>\n",
       "      <td>...</td>\n",
       "      <td>...</td>\n",
       "      <td>...</td>\n",
       "    </tr>\n",
       "    <tr>\n",
       "      <th>3129</th>\n",
       "      <td>3129</td>\n",
       "      <td>CAOrange County</td>\n",
       "      <td>CA</td>\n",
       "      <td>Orange County</td>\n",
       "      <td>6059</td>\n",
       "      <td>92675</td>\n",
       "      <td>8</td>\n",
       "      <td>3151184</td>\n",
       "      <td>23</td>\n",
       "      <td>3.27</td>\n",
       "      <td>...</td>\n",
       "      <td>130.89</td>\n",
       "      <td>136.70</td>\n",
       "      <td>69.29</td>\n",
       "      <td>96.23</td>\n",
       "      <td>109.59</td>\n",
       "      <td>138.55</td>\n",
       "      <td>145.25</td>\n",
       "      <td>3044</td>\n",
       "      <td>3130</td>\n",
       "      <td>3128</td>\n",
       "    </tr>\n",
       "    <tr>\n",
       "      <th>3130</th>\n",
       "      <td>3130</td>\n",
       "      <td>AZMaricopa County</td>\n",
       "      <td>AZ</td>\n",
       "      <td>Maricopa County</td>\n",
       "      <td>4013</td>\n",
       "      <td>85320</td>\n",
       "      <td>0</td>\n",
       "      <td>4551524</td>\n",
       "      <td>32</td>\n",
       "      <td>3.46</td>\n",
       "      <td>...</td>\n",
       "      <td>127.56</td>\n",
       "      <td>134.84</td>\n",
       "      <td>67.75</td>\n",
       "      <td>94.06</td>\n",
       "      <td>113.59</td>\n",
       "      <td>138.62</td>\n",
       "      <td>146.06</td>\n",
       "      <td>3045</td>\n",
       "      <td>3131</td>\n",
       "      <td>3132</td>\n",
       "    </tr>\n",
       "    <tr>\n",
       "      <th>3131</th>\n",
       "      <td>3131</td>\n",
       "      <td>TXHarris County</td>\n",
       "      <td>TX</td>\n",
       "      <td>Harris County</td>\n",
       "      <td>48201</td>\n",
       "      <td>77338</td>\n",
       "      <td>8</td>\n",
       "      <td>4780913</td>\n",
       "      <td>41</td>\n",
       "      <td>4.41</td>\n",
       "      <td>...</td>\n",
       "      <td>107.78</td>\n",
       "      <td>113.98</td>\n",
       "      <td>65.82</td>\n",
       "      <td>87.55</td>\n",
       "      <td>101.09</td>\n",
       "      <td>119.65</td>\n",
       "      <td>126.92</td>\n",
       "      <td>3046</td>\n",
       "      <td>3132</td>\n",
       "      <td>3131</td>\n",
       "    </tr>\n",
       "    <tr>\n",
       "      <th>3132</th>\n",
       "      <td>3132</td>\n",
       "      <td>ILCook County</td>\n",
       "      <td>IL</td>\n",
       "      <td>Cook County</td>\n",
       "      <td>17031</td>\n",
       "      <td>60103</td>\n",
       "      <td>8</td>\n",
       "      <td>5109292</td>\n",
       "      <td>33</td>\n",
       "      <td>5.30</td>\n",
       "      <td>...</td>\n",
       "      <td>117.02</td>\n",
       "      <td>124.83</td>\n",
       "      <td>63.04</td>\n",
       "      <td>89.91</td>\n",
       "      <td>107.57</td>\n",
       "      <td>127.47</td>\n",
       "      <td>134.89</td>\n",
       "      <td>2607</td>\n",
       "      <td>3133</td>\n",
       "      <td>3133</td>\n",
       "    </tr>\n",
       "    <tr>\n",
       "      <th>3133</th>\n",
       "      <td>3133</td>\n",
       "      <td>CALos Angeles County</td>\n",
       "      <td>CA</td>\n",
       "      <td>Los Angeles County</td>\n",
       "      <td>6037</td>\n",
       "      <td>90210</td>\n",
       "      <td>8</td>\n",
       "      <td>9721138</td>\n",
       "      <td>32</td>\n",
       "      <td>5.17</td>\n",
       "      <td>...</td>\n",
       "      <td>151.34</td>\n",
       "      <td>159.13</td>\n",
       "      <td>80.70</td>\n",
       "      <td>113.66</td>\n",
       "      <td>129.84</td>\n",
       "      <td>159.91</td>\n",
       "      <td>167.95</td>\n",
       "      <td>3048</td>\n",
       "      <td>3134</td>\n",
       "      <td>3134</td>\n",
       "    </tr>\n",
       "  </tbody>\n",
       "</table>\n",
       "<p>3134 rows × 33 columns</p>\n",
       "</div>"
      ],
      "text/plain": [
       "      Unnamed: 0            countyhelper LSTATE                NMCNTY   FIPS  \\\n",
       "0              0   VACharles City County     VA   Charles City County  51036   \n",
       "1              1       TXMcmullen County     TX       McMullen County  48311   \n",
       "2              2        TXTerrell County     TX        Terrell County  48443   \n",
       "3              3  AKSkagway Municipality     AK  Skagway Municipality   2230   \n",
       "4              4          GABaker County     GA          Baker County  13007   \n",
       "...          ...                     ...    ...                   ...    ...   \n",
       "3129        3129         CAOrange County     CA         Orange County   6059   \n",
       "3130        3130       AZMaricopa County     AZ       Maricopa County   4013   \n",
       "3131        3131         TXHarris County     TX         Harris County  48201   \n",
       "3132        3132           ILCook County     IL           Cook County  17031   \n",
       "3133        3133    CALos Angeles County     CA    Los Angeles County   6037   \n",
       "\n",
       "       LZIP  ULOCALE  2022 Population  2016 Crime Rate  Unemployment  ...  \\\n",
       "0     23030        1             6605                8          3.21  ...   \n",
       "1     78072        0              576               47          1.81  ...   \n",
       "2     79848        0              693               20          3.54  ...   \n",
       "3     99840        0             1081               13          7.19  ...   \n",
       "4     39870        1             2788                0          4.19  ...   \n",
       "...     ...      ...              ...              ...           ...  ...   \n",
       "3129  92675        8          3151184               23          3.27  ...   \n",
       "3130  85320        0          4551524               32          3.46  ...   \n",
       "3131  77338        8          4780913               41          4.41  ...   \n",
       "3132  60103        8          5109292               33          5.30  ...   \n",
       "3133  90210        8          9721138               32          5.17  ...   \n",
       "\n",
       "        1p3c    1p4c   2p0c    2p1c    2p2c    2p3c    2p4c  Stu:Tea Rank  \\\n",
       "0     111.16  119.90  67.97   90.07  105.57  123.82  131.87           135   \n",
       "1     105.46  111.95  72.03   90.73  104.21  120.05  127.11             3   \n",
       "2     127.10  135.84  87.96  110.73  125.11  145.91  153.79            12   \n",
       "3     121.39  128.32  69.18   94.01  113.02  132.18  139.30            15   \n",
       "4     122.57  131.91  85.54  108.73  124.45  141.99  153.63            26   \n",
       "...      ...     ...    ...     ...     ...     ...     ...           ...   \n",
       "3129  130.89  136.70  69.29   96.23  109.59  138.55  145.25          3044   \n",
       "3130  127.56  134.84  67.75   94.06  113.59  138.62  146.06          3045   \n",
       "3131  107.78  113.98  65.82   87.55  101.09  119.65  126.92          3046   \n",
       "3132  117.02  124.83  63.04   89.91  107.57  127.47  134.89          2607   \n",
       "3133  151.34  159.13  80.70  113.66  129.84  159.91  167.95          3048   \n",
       "\n",
       "      Diversity Rank (Race)  Diversity Rank (Gender)  \n",
       "0                         1                       25  \n",
       "1                         2                       87  \n",
       "2                         3                       47  \n",
       "3                         4                        9  \n",
       "4                         5                       60  \n",
       "...                     ...                      ...  \n",
       "3129                   3130                     3128  \n",
       "3130                   3131                     3132  \n",
       "3131                   3132                     3131  \n",
       "3132                   3133                     3133  \n",
       "3133                   3134                     3134  \n",
       "\n",
       "[3134 rows x 33 columns]"
      ]
     },
     "execution_count": 4,
     "metadata": {},
     "output_type": "execute_result"
    }
   ],
   "source": [
    "df"
   ]
  },
  {
   "cell_type": "code",
   "execution_count": 5,
   "id": "e20752b4-d2d8-4eb0-a3a0-a1429106f317",
   "metadata": {},
   "outputs": [
    {
     "data": {
      "text/plain": [
       "Unnamed: 0                   int64\n",
       "countyhelper                object\n",
       "LSTATE                      object\n",
       "NMCNTY                      object\n",
       "FIPS                         int64\n",
       "LZIP                         int64\n",
       "ULOCALE                      int64\n",
       "2022 Population              int64\n",
       "2016 Crime Rate              int64\n",
       "Unemployment               float64\n",
       "2020PopulrVoteParty          int64\n",
       "2020 PopulrMajor%          float64\n",
       "AQI%Good                   float64\n",
       "WaterQualityVPV              int64\n",
       "ParkScore2023 Rank           int64\n",
       "NtnlPrkCnt                   int64\n",
       "%CvgStatePark              float64\n",
       "Cost of Living             float64\n",
       "2022 Median Income         float64\n",
       "AVG C2I                    float64\n",
       "1p0c                       float64\n",
       "1p1c                       float64\n",
       "1p2c                       float64\n",
       "1p3c                       float64\n",
       "1p4c                       float64\n",
       "2p0c                       float64\n",
       "2p1c                       float64\n",
       "2p2c                       float64\n",
       "2p3c                       float64\n",
       "2p4c                       float64\n",
       "Stu:Tea Rank                 int64\n",
       "Diversity Rank (Race)        int64\n",
       "Diversity Rank (Gender)      int64\n",
       "dtype: object"
      ]
     },
     "execution_count": 5,
     "metadata": {},
     "output_type": "execute_result"
    }
   ],
   "source": [
    "df.dtypes"
   ]
  },
  {
   "cell_type": "code",
   "execution_count": 6,
   "id": "e07e3512-6149-42bb-91a1-a18db1e404ef",
   "metadata": {},
   "outputs": [],
   "source": [
    "del df[\"countyhelper\"]\n",
    "del df[\"LSTATE\"]\n",
    "del df[\"NMCNTY\"]"
   ]
  },
  {
   "cell_type": "code",
   "execution_count": 7,
   "id": "4cfc3b54-f8d9-4057-8187-2cc50e339905",
   "metadata": {},
   "outputs": [
    {
     "data": {
      "text/html": [
       "<div>\n",
       "<style scoped>\n",
       "    .dataframe tbody tr th:only-of-type {\n",
       "        vertical-align: middle;\n",
       "    }\n",
       "\n",
       "    .dataframe tbody tr th {\n",
       "        vertical-align: top;\n",
       "    }\n",
       "\n",
       "    .dataframe thead th {\n",
       "        text-align: right;\n",
       "    }\n",
       "</style>\n",
       "<table border=\"1\" class=\"dataframe\">\n",
       "  <thead>\n",
       "    <tr style=\"text-align: right;\">\n",
       "      <th></th>\n",
       "      <th>Unnamed: 0</th>\n",
       "      <th>FIPS</th>\n",
       "      <th>LZIP</th>\n",
       "      <th>ULOCALE</th>\n",
       "      <th>2022 Population</th>\n",
       "      <th>2016 Crime Rate</th>\n",
       "      <th>Unemployment</th>\n",
       "      <th>2020PopulrVoteParty</th>\n",
       "      <th>2020 PopulrMajor%</th>\n",
       "      <th>AQI%Good</th>\n",
       "      <th>...</th>\n",
       "      <th>1p3c</th>\n",
       "      <th>1p4c</th>\n",
       "      <th>2p0c</th>\n",
       "      <th>2p1c</th>\n",
       "      <th>2p2c</th>\n",
       "      <th>2p3c</th>\n",
       "      <th>2p4c</th>\n",
       "      <th>Stu:Tea Rank</th>\n",
       "      <th>Diversity Rank (Race)</th>\n",
       "      <th>Diversity Rank (Gender)</th>\n",
       "    </tr>\n",
       "  </thead>\n",
       "  <tbody>\n",
       "    <tr>\n",
       "      <th>0</th>\n",
       "      <td>0</td>\n",
       "      <td>51036</td>\n",
       "      <td>23030</td>\n",
       "      <td>1</td>\n",
       "      <td>6605</td>\n",
       "      <td>8</td>\n",
       "      <td>3.21</td>\n",
       "      <td>1</td>\n",
       "      <td>54.11</td>\n",
       "      <td>93.76</td>\n",
       "      <td>...</td>\n",
       "      <td>111.16</td>\n",
       "      <td>119.90</td>\n",
       "      <td>67.97</td>\n",
       "      <td>90.07</td>\n",
       "      <td>105.57</td>\n",
       "      <td>123.82</td>\n",
       "      <td>131.87</td>\n",
       "      <td>135</td>\n",
       "      <td>1</td>\n",
       "      <td>25</td>\n",
       "    </tr>\n",
       "    <tr>\n",
       "      <th>1</th>\n",
       "      <td>1</td>\n",
       "      <td>48311</td>\n",
       "      <td>78072</td>\n",
       "      <td>0</td>\n",
       "      <td>576</td>\n",
       "      <td>47</td>\n",
       "      <td>1.81</td>\n",
       "      <td>-1</td>\n",
       "      <td>52.06</td>\n",
       "      <td>75.33</td>\n",
       "      <td>...</td>\n",
       "      <td>105.46</td>\n",
       "      <td>111.95</td>\n",
       "      <td>72.03</td>\n",
       "      <td>90.73</td>\n",
       "      <td>104.21</td>\n",
       "      <td>120.05</td>\n",
       "      <td>127.11</td>\n",
       "      <td>3</td>\n",
       "      <td>2</td>\n",
       "      <td>87</td>\n",
       "    </tr>\n",
       "    <tr>\n",
       "      <th>2</th>\n",
       "      <td>2</td>\n",
       "      <td>48443</td>\n",
       "      <td>79848</td>\n",
       "      <td>0</td>\n",
       "      <td>693</td>\n",
       "      <td>20</td>\n",
       "      <td>3.54</td>\n",
       "      <td>-1</td>\n",
       "      <td>52.06</td>\n",
       "      <td>75.33</td>\n",
       "      <td>...</td>\n",
       "      <td>127.10</td>\n",
       "      <td>135.84</td>\n",
       "      <td>87.96</td>\n",
       "      <td>110.73</td>\n",
       "      <td>125.11</td>\n",
       "      <td>145.91</td>\n",
       "      <td>153.79</td>\n",
       "      <td>12</td>\n",
       "      <td>3</td>\n",
       "      <td>47</td>\n",
       "    </tr>\n",
       "    <tr>\n",
       "      <th>3</th>\n",
       "      <td>3</td>\n",
       "      <td>2230</td>\n",
       "      <td>99840</td>\n",
       "      <td>0</td>\n",
       "      <td>1081</td>\n",
       "      <td>13</td>\n",
       "      <td>7.19</td>\n",
       "      <td>-1</td>\n",
       "      <td>52.83</td>\n",
       "      <td>87.86</td>\n",
       "      <td>...</td>\n",
       "      <td>121.39</td>\n",
       "      <td>128.32</td>\n",
       "      <td>69.18</td>\n",
       "      <td>94.01</td>\n",
       "      <td>113.02</td>\n",
       "      <td>132.18</td>\n",
       "      <td>139.30</td>\n",
       "      <td>15</td>\n",
       "      <td>4</td>\n",
       "      <td>9</td>\n",
       "    </tr>\n",
       "    <tr>\n",
       "      <th>4</th>\n",
       "      <td>4</td>\n",
       "      <td>13007</td>\n",
       "      <td>39870</td>\n",
       "      <td>1</td>\n",
       "      <td>2788</td>\n",
       "      <td>0</td>\n",
       "      <td>4.19</td>\n",
       "      <td>1</td>\n",
       "      <td>49.50</td>\n",
       "      <td>83.30</td>\n",
       "      <td>...</td>\n",
       "      <td>122.57</td>\n",
       "      <td>131.91</td>\n",
       "      <td>85.54</td>\n",
       "      <td>108.73</td>\n",
       "      <td>124.45</td>\n",
       "      <td>141.99</td>\n",
       "      <td>153.63</td>\n",
       "      <td>26</td>\n",
       "      <td>5</td>\n",
       "      <td>60</td>\n",
       "    </tr>\n",
       "  </tbody>\n",
       "</table>\n",
       "<p>5 rows × 30 columns</p>\n",
       "</div>"
      ],
      "text/plain": [
       "   Unnamed: 0   FIPS   LZIP  ULOCALE  2022 Population  2016 Crime Rate  \\\n",
       "0           0  51036  23030        1             6605                8   \n",
       "1           1  48311  78072        0              576               47   \n",
       "2           2  48443  79848        0              693               20   \n",
       "3           3   2230  99840        0             1081               13   \n",
       "4           4  13007  39870        1             2788                0   \n",
       "\n",
       "   Unemployment  2020PopulrVoteParty  2020 PopulrMajor%  AQI%Good  ...  \\\n",
       "0          3.21                    1              54.11     93.76  ...   \n",
       "1          1.81                   -1              52.06     75.33  ...   \n",
       "2          3.54                   -1              52.06     75.33  ...   \n",
       "3          7.19                   -1              52.83     87.86  ...   \n",
       "4          4.19                    1              49.50     83.30  ...   \n",
       "\n",
       "     1p3c    1p4c   2p0c    2p1c    2p2c    2p3c    2p4c  Stu:Tea Rank  \\\n",
       "0  111.16  119.90  67.97   90.07  105.57  123.82  131.87           135   \n",
       "1  105.46  111.95  72.03   90.73  104.21  120.05  127.11             3   \n",
       "2  127.10  135.84  87.96  110.73  125.11  145.91  153.79            12   \n",
       "3  121.39  128.32  69.18   94.01  113.02  132.18  139.30            15   \n",
       "4  122.57  131.91  85.54  108.73  124.45  141.99  153.63            26   \n",
       "\n",
       "   Diversity Rank (Race)  Diversity Rank (Gender)  \n",
       "0                      1                       25  \n",
       "1                      2                       87  \n",
       "2                      3                       47  \n",
       "3                      4                        9  \n",
       "4                      5                       60  \n",
       "\n",
       "[5 rows x 30 columns]"
      ]
     },
     "execution_count": 7,
     "metadata": {},
     "output_type": "execute_result"
    }
   ],
   "source": [
    "df.head()"
   ]
  },
  {
   "cell_type": "code",
   "execution_count": 8,
   "id": "2070d9d5-ec77-4525-9fb9-d196fe0c0306",
   "metadata": {},
   "outputs": [
    {
     "data": {
      "text/plain": [
       "Index(['Unnamed: 0', 'FIPS', 'LZIP', 'ULOCALE', '2022 Population',\n",
       "       '2016 Crime Rate', 'Unemployment', '2020PopulrVoteParty',\n",
       "       '2020 PopulrMajor%', 'AQI%Good', 'WaterQualityVPV',\n",
       "       'ParkScore2023 Rank', 'NtnlPrkCnt', '%CvgStatePark', 'Cost of Living',\n",
       "       '2022 Median Income', 'AVG C2I', '1p0c', '1p1c', '1p2c', '1p3c', '1p4c',\n",
       "       '2p0c', '2p1c', '2p2c', '2p3c', '2p4c', 'Stu:Tea Rank',\n",
       "       'Diversity Rank (Race)', 'Diversity Rank (Gender)'],\n",
       "      dtype='object')"
      ]
     },
     "execution_count": 8,
     "metadata": {},
     "output_type": "execute_result"
    }
   ],
   "source": [
    "df.columns"
   ]
  },
  {
   "cell_type": "code",
   "execution_count": 9,
   "id": "e0ddecf6-7b81-47c9-8863-06fee314f691",
   "metadata": {},
   "outputs": [
    {
     "name": "stdout",
     "output_type": "stream",
     "text": [
      "<class 'pandas.core.frame.DataFrame'>\n",
      "RangeIndex: 3134 entries, 0 to 3133\n",
      "Data columns (total 30 columns):\n",
      " #   Column                   Non-Null Count  Dtype  \n",
      "---  ------                   --------------  -----  \n",
      " 0   Unnamed: 0               3134 non-null   int64  \n",
      " 1   FIPS                     3134 non-null   int64  \n",
      " 2   LZIP                     3134 non-null   int64  \n",
      " 3   ULOCALE                  3134 non-null   int64  \n",
      " 4   2022 Population          3134 non-null   int64  \n",
      " 5   2016 Crime Rate          3134 non-null   int64  \n",
      " 6   Unemployment             3134 non-null   float64\n",
      " 7   2020PopulrVoteParty      3134 non-null   int64  \n",
      " 8   2020 PopulrMajor%        3134 non-null   float64\n",
      " 9   AQI%Good                 3134 non-null   float64\n",
      " 10  WaterQualityVPV          3134 non-null   int64  \n",
      " 11  ParkScore2023 Rank       3134 non-null   int64  \n",
      " 12  NtnlPrkCnt               3134 non-null   int64  \n",
      " 13  %CvgStatePark            3134 non-null   float64\n",
      " 14  Cost of Living           3134 non-null   float64\n",
      " 15  2022 Median Income       3134 non-null   float64\n",
      " 16  AVG C2I                  3134 non-null   float64\n",
      " 17  1p0c                     3134 non-null   float64\n",
      " 18  1p1c                     3134 non-null   float64\n",
      " 19  1p2c                     3134 non-null   float64\n",
      " 20  1p3c                     3134 non-null   float64\n",
      " 21  1p4c                     3134 non-null   float64\n",
      " 22  2p0c                     3134 non-null   float64\n",
      " 23  2p1c                     3134 non-null   float64\n",
      " 24  2p2c                     3134 non-null   float64\n",
      " 25  2p3c                     3134 non-null   float64\n",
      " 26  2p4c                     3134 non-null   float64\n",
      " 27  Stu:Tea Rank             3134 non-null   int64  \n",
      " 28  Diversity Rank (Race)    3134 non-null   int64  \n",
      " 29  Diversity Rank (Gender)  3134 non-null   int64  \n",
      "dtypes: float64(17), int64(13)\n",
      "memory usage: 734.7 KB\n"
     ]
    }
   ],
   "source": [
    "df.info()"
   ]
  },
  {
   "cell_type": "markdown",
   "id": "452e10c4-3748-4bff-9bf5-1aa33450118c",
   "metadata": {},
   "source": [
    "## __Splitting Dataset Into Training & Testing Sets__"
   ]
  },
  {
   "cell_type": "code",
   "execution_count": 10,
   "id": "86cdc4c1-4308-47bf-a17c-1e90865d5f05",
   "metadata": {},
   "outputs": [],
   "source": [
    "X = df[[\"2022 Population\", \"Stu:Tea Rank\", \"2016 Crime Rate\", \"Cost of Living\", \"2022 Median Income\"]]\n",
    "y = df[\"Diversity Rank (Race)\"]"
   ]
  },
  {
   "cell_type": "code",
   "execution_count": 11,
   "id": "146df3f2-f24f-4de3-87ae-915b5231b386",
   "metadata": {},
   "outputs": [],
   "source": [
    "from sklearn.model_selection import train_test_split\n",
    "from sklearn.feature_selection import SelectKBest\n",
    "X_train, X_test, y_train, y_test = train_test_split(X,y,test_size= 0.30,random_state = 21)"
   ]
  },
  {
   "cell_type": "markdown",
   "id": "aa251663-fd9d-4dbd-a3d6-dadaa7fa5d06",
   "metadata": {},
   "source": [
    "## __RandomForestRegressor Integration__"
   ]
  },
  {
   "cell_type": "code",
   "execution_count": 12,
   "id": "3aec20e0-7fd1-4b2f-b605-10754a2f7712",
   "metadata": {},
   "outputs": [],
   "source": [
    "from sklearn.ensemble import RandomForestRegressor\n",
    "rfr = RandomForestRegressor(n_estimators= 500, criterion= \"squared_error\", max_depth= 10) "
   ]
  },
  {
   "cell_type": "code",
   "execution_count": 13,
   "id": "94b7e0d0-cb02-4dcb-8b34-47f29b3719c5",
   "metadata": {},
   "outputs": [
    {
     "data": {
      "text/html": [
       "<style>#sk-container-id-1 {color: black;background-color: white;}#sk-container-id-1 pre{padding: 0;}#sk-container-id-1 div.sk-toggleable {background-color: white;}#sk-container-id-1 label.sk-toggleable__label {cursor: pointer;display: block;width: 100%;margin-bottom: 0;padding: 0.3em;box-sizing: border-box;text-align: center;}#sk-container-id-1 label.sk-toggleable__label-arrow:before {content: \"▸\";float: left;margin-right: 0.25em;color: #696969;}#sk-container-id-1 label.sk-toggleable__label-arrow:hover:before {color: black;}#sk-container-id-1 div.sk-estimator:hover label.sk-toggleable__label-arrow:before {color: black;}#sk-container-id-1 div.sk-toggleable__content {max-height: 0;max-width: 0;overflow: hidden;text-align: left;background-color: #f0f8ff;}#sk-container-id-1 div.sk-toggleable__content pre {margin: 0.2em;color: black;border-radius: 0.25em;background-color: #f0f8ff;}#sk-container-id-1 input.sk-toggleable__control:checked~div.sk-toggleable__content {max-height: 200px;max-width: 100%;overflow: auto;}#sk-container-id-1 input.sk-toggleable__control:checked~label.sk-toggleable__label-arrow:before {content: \"▾\";}#sk-container-id-1 div.sk-estimator input.sk-toggleable__control:checked~label.sk-toggleable__label {background-color: #d4ebff;}#sk-container-id-1 div.sk-label input.sk-toggleable__control:checked~label.sk-toggleable__label {background-color: #d4ebff;}#sk-container-id-1 input.sk-hidden--visually {border: 0;clip: rect(1px 1px 1px 1px);clip: rect(1px, 1px, 1px, 1px);height: 1px;margin: -1px;overflow: hidden;padding: 0;position: absolute;width: 1px;}#sk-container-id-1 div.sk-estimator {font-family: monospace;background-color: #f0f8ff;border: 1px dotted black;border-radius: 0.25em;box-sizing: border-box;margin-bottom: 0.5em;}#sk-container-id-1 div.sk-estimator:hover {background-color: #d4ebff;}#sk-container-id-1 div.sk-parallel-item::after {content: \"\";width: 100%;border-bottom: 1px solid gray;flex-grow: 1;}#sk-container-id-1 div.sk-label:hover label.sk-toggleable__label {background-color: #d4ebff;}#sk-container-id-1 div.sk-serial::before {content: \"\";position: absolute;border-left: 1px solid gray;box-sizing: border-box;top: 0;bottom: 0;left: 50%;z-index: 0;}#sk-container-id-1 div.sk-serial {display: flex;flex-direction: column;align-items: center;background-color: white;padding-right: 0.2em;padding-left: 0.2em;position: relative;}#sk-container-id-1 div.sk-item {position: relative;z-index: 1;}#sk-container-id-1 div.sk-parallel {display: flex;align-items: stretch;justify-content: center;background-color: white;position: relative;}#sk-container-id-1 div.sk-item::before, #sk-container-id-1 div.sk-parallel-item::before {content: \"\";position: absolute;border-left: 1px solid gray;box-sizing: border-box;top: 0;bottom: 0;left: 50%;z-index: -1;}#sk-container-id-1 div.sk-parallel-item {display: flex;flex-direction: column;z-index: 1;position: relative;background-color: white;}#sk-container-id-1 div.sk-parallel-item:first-child::after {align-self: flex-end;width: 50%;}#sk-container-id-1 div.sk-parallel-item:last-child::after {align-self: flex-start;width: 50%;}#sk-container-id-1 div.sk-parallel-item:only-child::after {width: 0;}#sk-container-id-1 div.sk-dashed-wrapped {border: 1px dashed gray;margin: 0 0.4em 0.5em 0.4em;box-sizing: border-box;padding-bottom: 0.4em;background-color: white;}#sk-container-id-1 div.sk-label label {font-family: monospace;font-weight: bold;display: inline-block;line-height: 1.2em;}#sk-container-id-1 div.sk-label-container {text-align: center;}#sk-container-id-1 div.sk-container {/* jupyter's `normalize.less` sets `[hidden] { display: none; }` but bootstrap.min.css set `[hidden] { display: none !important; }` so we also need the `!important` here to be able to override the default hidden behavior on the sphinx rendered scikit-learn.org. See: https://github.com/scikit-learn/scikit-learn/issues/21755 */display: inline-block !important;position: relative;}#sk-container-id-1 div.sk-text-repr-fallback {display: none;}</style><div id=\"sk-container-id-1\" class=\"sk-top-container\"><div class=\"sk-text-repr-fallback\"><pre>RandomForestRegressor(max_depth=10, n_estimators=500)</pre><b>In a Jupyter environment, please rerun this cell to show the HTML representation or trust the notebook. <br />On GitHub, the HTML representation is unable to render, please try loading this page with nbviewer.org.</b></div><div class=\"sk-container\" hidden><div class=\"sk-item\"><div class=\"sk-estimator sk-toggleable\"><input class=\"sk-toggleable__control sk-hidden--visually\" id=\"sk-estimator-id-1\" type=\"checkbox\" checked><label for=\"sk-estimator-id-1\" class=\"sk-toggleable__label sk-toggleable__label-arrow\">RandomForestRegressor</label><div class=\"sk-toggleable__content\"><pre>RandomForestRegressor(max_depth=10, n_estimators=500)</pre></div></div></div></div></div>"
      ],
      "text/plain": [
       "RandomForestRegressor(max_depth=10, n_estimators=500)"
      ]
     },
     "execution_count": 13,
     "metadata": {},
     "output_type": "execute_result"
    }
   ],
   "source": [
    "rfr.fit(X_train, y_train)"
   ]
  },
  {
   "cell_type": "code",
   "execution_count": 14,
   "id": "1d526c0b-ddc5-41a9-9aa2-3400b6ed7613",
   "metadata": {},
   "outputs": [],
   "source": [
    "from sklearn.metrics import mean_absolute_error, mean_squared_error, explained_variance_score, r2_score"
   ]
  },
  {
   "cell_type": "code",
   "execution_count": 15,
   "id": "71465702-e16e-4290-8fb6-96fe9bc9a252",
   "metadata": {},
   "outputs": [
    {
     "data": {
      "text/plain": [
       "0.932099715588648"
      ]
     },
     "execution_count": 15,
     "metadata": {},
     "output_type": "execute_result"
    }
   ],
   "source": [
    "rfr.score(X_train, y_train)"
   ]
  },
  {
   "cell_type": "code",
   "execution_count": 16,
   "id": "e6d0807d-090a-4e04-b91a-702ad4974b3f",
   "metadata": {},
   "outputs": [],
   "source": [
    "y_pred = rfr.predict(X_train)"
   ]
  },
  {
   "cell_type": "code",
   "execution_count": 17,
   "id": "baa19072-7858-48c0-b4b9-13c3edb47fab",
   "metadata": {},
   "outputs": [
    {
     "data": {
      "text/plain": [
       "174.98013149688472"
      ]
     },
     "execution_count": 17,
     "metadata": {},
     "output_type": "execute_result"
    }
   ],
   "source": [
    "mean_absolute_error(y_train, y_pred)"
   ]
  },
  {
   "cell_type": "code",
   "execution_count": 18,
   "id": "c44ad68d-fcc4-4008-8633-007500e03910",
   "metadata": {},
   "outputs": [
    {
     "data": {
      "text/plain": [
       "56127.90994568217"
      ]
     },
     "execution_count": 18,
     "metadata": {},
     "output_type": "execute_result"
    }
   ],
   "source": [
    "mean_squared_error(y_train, y_pred)"
   ]
  },
  {
   "cell_type": "code",
   "execution_count": 19,
   "id": "485b00e9-f31e-46da-acce-3691d4c96b6b",
   "metadata": {},
   "outputs": [
    {
     "data": {
      "text/plain": [
       "0.932099715588648"
      ]
     },
     "execution_count": 19,
     "metadata": {},
     "output_type": "execute_result"
    }
   ],
   "source": [
    "r2_score(y_train, y_pred)"
   ]
  },
  {
   "cell_type": "code",
   "execution_count": 20,
   "id": "551aa10b-a0a4-4e3c-bbaf-741f455ed718",
   "metadata": {},
   "outputs": [],
   "source": [
    "ytest_pred = rfr.predict(X_test)"
   ]
  },
  {
   "cell_type": "code",
   "execution_count": 21,
   "id": "367b8940-fc22-4ead-9e85-50f95c9431f4",
   "metadata": {},
   "outputs": [
    {
     "data": {
      "text/plain": [
       "269.0728171813972"
      ]
     },
     "execution_count": 21,
     "metadata": {},
     "output_type": "execute_result"
    }
   ],
   "source": [
    "mean_absolute_error(y_test, ytest_pred)"
   ]
  },
  {
   "cell_type": "code",
   "execution_count": 22,
   "id": "bb7933d7-6756-44c2-9295-ebc014a55ab4",
   "metadata": {},
   "outputs": [
    {
     "data": {
      "text/plain": [
       "138717.95027008103"
      ]
     },
     "execution_count": 22,
     "metadata": {},
     "output_type": "execute_result"
    }
   ],
   "source": [
    "mean_squared_error(y_test, ytest_pred)"
   ]
  },
  {
   "cell_type": "code",
   "execution_count": 23,
   "id": "c8172139-acc8-41b1-93b6-3f8805e967ae",
   "metadata": {},
   "outputs": [
    {
     "data": {
      "text/plain": [
       "0.8264806588930554"
      ]
     },
     "execution_count": 23,
     "metadata": {},
     "output_type": "execute_result"
    }
   ],
   "source": [
    "r2_score(y_test, ytest_pred)"
   ]
  },
  {
   "cell_type": "code",
   "execution_count": 24,
   "id": "859fc8bd-1b58-41ea-afc9-4140531ff72f",
   "metadata": {},
   "outputs": [
    {
     "name": "stdout",
     "output_type": "stream",
     "text": [
      "Mean Squared Error: 138717.95027008103\n",
      "R² Score: 0.8264806588930554\n"
     ]
    }
   ],
   "source": [
    "mse = mean_squared_error(y_test, ytest_pred)\n",
    "r2 = r2_score(y_test, ytest_pred)\n",
    "\n",
    "print(\"Mean Squared Error:\", mse)\n",
    "print(\"R² Score:\", r2)"
   ]
  },
  {
   "cell_type": "code",
   "execution_count": 25,
   "id": "ba609313-9163-4f69-a520-71c32f0e129e",
   "metadata": {},
   "outputs": [],
   "source": [
    "from sklearn.model_selection import GridSearchCV\n",
    "param_grid = {\n",
    "    'n_estimators': [500,600,700], \n",
    "    'max_depth': [5,10,15],\n",
    "    'min_samples_split': [2,5,10],\n",
    "    'min_samples_leaf': [1,2,4]\n",
    "}"
   ]
  },
  {
   "cell_type": "code",
   "execution_count": 26,
   "id": "12a33702-60ba-46cd-8884-b0ab5a8db0ff",
   "metadata": {},
   "outputs": [],
   "source": [
    "rfr_cv = GridSearchCV(estimator= rfr, param_grid=param_grid, cv=2, scoring= \"neg_mean_squared_error\", n_jobs= -1)"
   ]
  },
  {
   "cell_type": "code",
   "execution_count": 27,
   "id": "79aedd59-16b6-4332-a16f-ddd74816b0e3",
   "metadata": {},
   "outputs": [
    {
     "data": {
      "text/html": [
       "<style>#sk-container-id-2 {color: black;background-color: white;}#sk-container-id-2 pre{padding: 0;}#sk-container-id-2 div.sk-toggleable {background-color: white;}#sk-container-id-2 label.sk-toggleable__label {cursor: pointer;display: block;width: 100%;margin-bottom: 0;padding: 0.3em;box-sizing: border-box;text-align: center;}#sk-container-id-2 label.sk-toggleable__label-arrow:before {content: \"▸\";float: left;margin-right: 0.25em;color: #696969;}#sk-container-id-2 label.sk-toggleable__label-arrow:hover:before {color: black;}#sk-container-id-2 div.sk-estimator:hover label.sk-toggleable__label-arrow:before {color: black;}#sk-container-id-2 div.sk-toggleable__content {max-height: 0;max-width: 0;overflow: hidden;text-align: left;background-color: #f0f8ff;}#sk-container-id-2 div.sk-toggleable__content pre {margin: 0.2em;color: black;border-radius: 0.25em;background-color: #f0f8ff;}#sk-container-id-2 input.sk-toggleable__control:checked~div.sk-toggleable__content {max-height: 200px;max-width: 100%;overflow: auto;}#sk-container-id-2 input.sk-toggleable__control:checked~label.sk-toggleable__label-arrow:before {content: \"▾\";}#sk-container-id-2 div.sk-estimator input.sk-toggleable__control:checked~label.sk-toggleable__label {background-color: #d4ebff;}#sk-container-id-2 div.sk-label input.sk-toggleable__control:checked~label.sk-toggleable__label {background-color: #d4ebff;}#sk-container-id-2 input.sk-hidden--visually {border: 0;clip: rect(1px 1px 1px 1px);clip: rect(1px, 1px, 1px, 1px);height: 1px;margin: -1px;overflow: hidden;padding: 0;position: absolute;width: 1px;}#sk-container-id-2 div.sk-estimator {font-family: monospace;background-color: #f0f8ff;border: 1px dotted black;border-radius: 0.25em;box-sizing: border-box;margin-bottom: 0.5em;}#sk-container-id-2 div.sk-estimator:hover {background-color: #d4ebff;}#sk-container-id-2 div.sk-parallel-item::after {content: \"\";width: 100%;border-bottom: 1px solid gray;flex-grow: 1;}#sk-container-id-2 div.sk-label:hover label.sk-toggleable__label {background-color: #d4ebff;}#sk-container-id-2 div.sk-serial::before {content: \"\";position: absolute;border-left: 1px solid gray;box-sizing: border-box;top: 0;bottom: 0;left: 50%;z-index: 0;}#sk-container-id-2 div.sk-serial {display: flex;flex-direction: column;align-items: center;background-color: white;padding-right: 0.2em;padding-left: 0.2em;position: relative;}#sk-container-id-2 div.sk-item {position: relative;z-index: 1;}#sk-container-id-2 div.sk-parallel {display: flex;align-items: stretch;justify-content: center;background-color: white;position: relative;}#sk-container-id-2 div.sk-item::before, #sk-container-id-2 div.sk-parallel-item::before {content: \"\";position: absolute;border-left: 1px solid gray;box-sizing: border-box;top: 0;bottom: 0;left: 50%;z-index: -1;}#sk-container-id-2 div.sk-parallel-item {display: flex;flex-direction: column;z-index: 1;position: relative;background-color: white;}#sk-container-id-2 div.sk-parallel-item:first-child::after {align-self: flex-end;width: 50%;}#sk-container-id-2 div.sk-parallel-item:last-child::after {align-self: flex-start;width: 50%;}#sk-container-id-2 div.sk-parallel-item:only-child::after {width: 0;}#sk-container-id-2 div.sk-dashed-wrapped {border: 1px dashed gray;margin: 0 0.4em 0.5em 0.4em;box-sizing: border-box;padding-bottom: 0.4em;background-color: white;}#sk-container-id-2 div.sk-label label {font-family: monospace;font-weight: bold;display: inline-block;line-height: 1.2em;}#sk-container-id-2 div.sk-label-container {text-align: center;}#sk-container-id-2 div.sk-container {/* jupyter's `normalize.less` sets `[hidden] { display: none; }` but bootstrap.min.css set `[hidden] { display: none !important; }` so we also need the `!important` here to be able to override the default hidden behavior on the sphinx rendered scikit-learn.org. See: https://github.com/scikit-learn/scikit-learn/issues/21755 */display: inline-block !important;position: relative;}#sk-container-id-2 div.sk-text-repr-fallback {display: none;}</style><div id=\"sk-container-id-2\" class=\"sk-top-container\"><div class=\"sk-text-repr-fallback\"><pre>GridSearchCV(cv=2,\n",
       "             estimator=RandomForestRegressor(max_depth=10, n_estimators=500),\n",
       "             n_jobs=-1,\n",
       "             param_grid={&#x27;max_depth&#x27;: [5, 10, 15],\n",
       "                         &#x27;min_samples_leaf&#x27;: [1, 2, 4],\n",
       "                         &#x27;min_samples_split&#x27;: [2, 5, 10],\n",
       "                         &#x27;n_estimators&#x27;: [500, 600, 700]},\n",
       "             scoring=&#x27;neg_mean_squared_error&#x27;)</pre><b>In a Jupyter environment, please rerun this cell to show the HTML representation or trust the notebook. <br />On GitHub, the HTML representation is unable to render, please try loading this page with nbviewer.org.</b></div><div class=\"sk-container\" hidden><div class=\"sk-item sk-dashed-wrapped\"><div class=\"sk-label-container\"><div class=\"sk-label sk-toggleable\"><input class=\"sk-toggleable__control sk-hidden--visually\" id=\"sk-estimator-id-2\" type=\"checkbox\" ><label for=\"sk-estimator-id-2\" class=\"sk-toggleable__label sk-toggleable__label-arrow\">GridSearchCV</label><div class=\"sk-toggleable__content\"><pre>GridSearchCV(cv=2,\n",
       "             estimator=RandomForestRegressor(max_depth=10, n_estimators=500),\n",
       "             n_jobs=-1,\n",
       "             param_grid={&#x27;max_depth&#x27;: [5, 10, 15],\n",
       "                         &#x27;min_samples_leaf&#x27;: [1, 2, 4],\n",
       "                         &#x27;min_samples_split&#x27;: [2, 5, 10],\n",
       "                         &#x27;n_estimators&#x27;: [500, 600, 700]},\n",
       "             scoring=&#x27;neg_mean_squared_error&#x27;)</pre></div></div></div><div class=\"sk-parallel\"><div class=\"sk-parallel-item\"><div class=\"sk-item\"><div class=\"sk-label-container\"><div class=\"sk-label sk-toggleable\"><input class=\"sk-toggleable__control sk-hidden--visually\" id=\"sk-estimator-id-3\" type=\"checkbox\" ><label for=\"sk-estimator-id-3\" class=\"sk-toggleable__label sk-toggleable__label-arrow\">estimator: RandomForestRegressor</label><div class=\"sk-toggleable__content\"><pre>RandomForestRegressor(max_depth=10, n_estimators=500)</pre></div></div></div><div class=\"sk-serial\"><div class=\"sk-item\"><div class=\"sk-estimator sk-toggleable\"><input class=\"sk-toggleable__control sk-hidden--visually\" id=\"sk-estimator-id-4\" type=\"checkbox\" ><label for=\"sk-estimator-id-4\" class=\"sk-toggleable__label sk-toggleable__label-arrow\">RandomForestRegressor</label><div class=\"sk-toggleable__content\"><pre>RandomForestRegressor(max_depth=10, n_estimators=500)</pre></div></div></div></div></div></div></div></div></div></div>"
      ],
      "text/plain": [
       "GridSearchCV(cv=2,\n",
       "             estimator=RandomForestRegressor(max_depth=10, n_estimators=500),\n",
       "             n_jobs=-1,\n",
       "             param_grid={'max_depth': [5, 10, 15],\n",
       "                         'min_samples_leaf': [1, 2, 4],\n",
       "                         'min_samples_split': [2, 5, 10],\n",
       "                         'n_estimators': [500, 600, 700]},\n",
       "             scoring='neg_mean_squared_error')"
      ]
     },
     "execution_count": 27,
     "metadata": {},
     "output_type": "execute_result"
    }
   ],
   "source": [
    "rfr_cv.fit(X_train, y_train)"
   ]
  },
  {
   "cell_type": "code",
   "execution_count": 28,
   "id": "a0e5615a-e356-4867-a463-a029a2bdccdc",
   "metadata": {},
   "outputs": [],
   "source": [
    "yt_pred = rfr_cv.predict(X_test)"
   ]
  },
  {
   "cell_type": "code",
   "execution_count": 29,
   "id": "0d7fe1c0-ecf9-4bb5-a702-80f47fe69962",
   "metadata": {},
   "outputs": [
    {
     "data": {
      "text/plain": [
       "0.8242504690667124"
      ]
     },
     "execution_count": 29,
     "metadata": {},
     "output_type": "execute_result"
    }
   ],
   "source": [
    "r2_score(y_test, yt_pred)"
   ]
  },
  {
   "cell_type": "markdown",
   "id": "4fe2a070-a914-4910-8c0b-ace1feb94055",
   "metadata": {},
   "source": [
    "## __Residuals Visualization__"
   ]
  },
  {
   "cell_type": "code",
   "execution_count": 30,
   "id": "eb6b1769-f06e-4eac-a653-f7b5eda3a64a",
   "metadata": {},
   "outputs": [
    {
     "name": "stderr",
     "output_type": "stream",
     "text": [
      "/opt/anaconda3/lib/python3.11/site-packages/sklearn/base.py:439: UserWarning: X does not have valid feature names, but RandomForestRegressor was fitted with feature names\n",
      "  warnings.warn(\n"
     ]
    },
    {
     "data": {
      "image/png": "[encoded data removed]",
      "text/plain": [
       "<Figure size 800x550 with 2 Axes>"
      ]
     },
     "metadata": {},
     "output_type": "display_data"
    },
    {
     "data": {
      "text/plain": [
       "<Axes: title={'center': 'Residuals for RandomForestRegressor Model'}, xlabel='Predicted Value', ylabel='Residuals'>"
      ]
     },
     "execution_count": 30,
     "metadata": {},
     "output_type": "execute_result"
    }
   ],
   "source": [
    "#Plotting the residuals\n",
    "from yellowbrick.regressor import ResidualsPlot\n",
    "visualizer = ResidualsPlot(rfr)\n",
    "visualizer.fit(X_train,y_train)\n",
    "visualizer.score(X_test, y_test)\n",
    "visualizer.poof()"
   ]
  },
  {
   "cell_type": "markdown",
   "id": "fff633f9-a149-4a23-afdd-06b6a050b1ff",
   "metadata": {},
   "source": [
    "## __Feature Importance Ranking__"
   ]
  },
  {
   "cell_type": "code",
   "execution_count": 31,
   "id": "8068996b-4bf2-490b-a7f1-f90dc9d63ce6",
   "metadata": {},
   "outputs": [],
   "source": [
    "#Random Forest Feature Ranking\n",
    "from sklearn.pipeline import Pipeline\n",
    "feature_list = list(X.columns)\n",
    "f_importance = pd.Series(rfr.feature_importances_, index = feature_list).sort_values(ascending = False)"
   ]
  },
  {
   "cell_type": "code",
   "execution_count": 32,
   "id": "6293422f-fdf1-4f6d-bc5f-8cbe8f1a4454",
   "metadata": {},
   "outputs": [
    {
     "data": {
      "text/html": [
       "<div>\n",
       "<style scoped>\n",
       "    .dataframe tbody tr th:only-of-type {\n",
       "        vertical-align: middle;\n",
       "    }\n",
       "\n",
       "    .dataframe tbody tr th {\n",
       "        vertical-align: top;\n",
       "    }\n",
       "\n",
       "    .dataframe thead th {\n",
       "        text-align: right;\n",
       "    }\n",
       "</style>\n",
       "<table border=\"1\" class=\"dataframe\">\n",
       "  <thead>\n",
       "    <tr style=\"text-align: right;\">\n",
       "      <th></th>\n",
       "      <th>index</th>\n",
       "      <th>Feature Names</th>\n",
       "      <th>Importance</th>\n",
       "    </tr>\n",
       "  </thead>\n",
       "  <tbody>\n",
       "    <tr>\n",
       "      <th>0</th>\n",
       "      <td>1</td>\n",
       "      <td>Stu:Tea Rank</td>\n",
       "      <td>0.750925</td>\n",
       "    </tr>\n",
       "    <tr>\n",
       "      <th>1</th>\n",
       "      <td>0</td>\n",
       "      <td>2022 Population</td>\n",
       "      <td>0.173445</td>\n",
       "    </tr>\n",
       "    <tr>\n",
       "      <th>2</th>\n",
       "      <td>4</td>\n",
       "      <td>2022 Median Income</td>\n",
       "      <td>0.027888</td>\n",
       "    </tr>\n",
       "    <tr>\n",
       "      <th>3</th>\n",
       "      <td>3</td>\n",
       "      <td>Cost of Living</td>\n",
       "      <td>0.024180</td>\n",
       "    </tr>\n",
       "    <tr>\n",
       "      <th>4</th>\n",
       "      <td>2</td>\n",
       "      <td>2016 Crime Rate</td>\n",
       "      <td>0.023562</td>\n",
       "    </tr>\n",
       "  </tbody>\n",
       "</table>\n",
       "</div>"
      ],
      "text/plain": [
       "   index       Feature Names  Importance\n",
       "0      1        Stu:Tea Rank    0.750925\n",
       "1      0     2022 Population    0.173445\n",
       "2      4  2022 Median Income    0.027888\n",
       "3      3      Cost of Living    0.024180\n",
       "4      2     2016 Crime Rate    0.023562"
      ]
     },
     "execution_count": 32,
     "metadata": {},
     "output_type": "execute_result"
    }
   ],
   "source": [
    "feature_list = list(X.columns)\n",
    "num_features = len(feature_list)\n",
    "importance = rfr.feature_importances_\n",
    "\n",
    "df_importance = pd.DataFrame({\"Feature Names\":feature_list, \"Importance\": importance})\n",
    "df_importance = df_importance.sort_values('Importance', ascending = False).reset_index()\n",
    "df_importance"
   ]
  },
  {
   "cell_type": "code",
   "execution_count": 33,
   "id": "34b34017-52e7-496b-a24f-818dde77143b",
   "metadata": {},
   "outputs": [
    {
     "data": {
      "image/png": "[encoded data removed]",
      "text/plain": [
       "<Figure size 2500x1000 with 1 Axes>"
      ]
     },
     "metadata": {},
     "output_type": "display_data"
    }
   ],
   "source": [
    "sns.set_theme(style=\"whitegrid\")\n",
    "plt.figure(figsize=(25, 10))\n",
    "sns.barplot(data= df_importance.iloc[:,:] , x = 'Feature Names', y= 'Importance')\n",
    "plt.show()"
   ]
  },
  {
   "cell_type": "code",
   "execution_count": null,
   "id": "2c1cae72-4bd9-4752-8769-10308bdc8144",
   "metadata": {},
   "outputs": [],
   "source": []
  }
 ],
 "metadata": {
  "kernelspec": {
   "display_name": "Python 3 (ipykernel)",
   "language": "python",
   "name": "python3"
  },
  "language_info": {
   "codemirror_mode": {
    "name": "ipython",
    "version": 3
   },
   "file_extension": ".py",
   "mimetype": "text/x-python",
   "name": "python",
   "nbconvert_exporter": "python",
   "pygments_lexer": "ipython3",
   "version": "3.11.7"
  }
 },
 "nbformat": 4,
 "nbformat_minor": 5
}
