{
 "cells": [
  {
   "cell_type": "code",
   "execution_count": 1,
   "id": "823045bf-002c-4499-a823-8652d1aba767",
   "metadata": {},
   "outputs": [
    {
     "name": "stdout",
     "output_type": "stream",
     "text": [
      "Requirement already satisfied: geopy in /opt/anaconda3/lib/python3.11/site-packages (2.4.1)\n",
      "Requirement already satisfied: geographiclib<3,>=1.52 in /opt/anaconda3/lib/python3.11/site-packages (from geopy) (2.0)\n",
      "Note: you may need to restart the kernel to use updated packages.\n"
     ]
    }
   ],
   "source": [
    "pip install geopy"
   ]
  },
  {
   "cell_type": "code",
   "execution_count": 2,
   "id": "5accee1f-b9e4-4e66-9026-56e5ccaf4e8d",
   "metadata": {},
   "outputs": [],
   "source": [
    "import numpy as np \n",
    "import pandas as pd\n",
    "import matplotlib.pyplot as plt\n",
    "import scipy.stats as stats\n",
    "import math\n",
    "import statsmodels.api as sm\n",
    "\n",
    "from matplotlib.pyplot import subplots\n",
    "from sklearn import preprocessing\n",
    "from sklearn import utils\n",
    "from sklearn.metrics import r2_score, auc\n",
    "from sklearn.model_selection import train_test_split, KFold  \n",
    "import geopy\n",
    "from geopy.geocoders import Nominatim"
   ]
  },
  {
   "cell_type": "code",
   "execution_count": null,
   "id": "a57c854e-72de-441a-adc7-c72884607219",
   "metadata": {},
   "outputs": [
    {
     "name": "stderr",
     "output_type": "stream",
     "text": [
      "/var/folders/bd/_pjrwxy561dd1kcr3p6bmpfr0000gn/T/ipykernel_64785/4122325407.py:1: DtypeWarning: Columns (2) have mixed types. Specify dtype option on import or set low_memory=False.\n",
      "  mta = pd.read_csv(\"MTAHourlyRidership.csv\")\n"
     ]
    }
   ],
   "source": [
    "mta = pd.read_csv(\"MTAHourlyRidership.csv\")\n",
    "\n",
    "# initializing the geolocator\n",
    "geolocator = geopy.Nominatim(user_agent=\"my_app_name(silvastewart20@gmail.com)\")  \n",
    "\n",
    "# define a function to get the zip code\n",
    "def get_zip_code(x):\n",
    "    location = geolocator.reverse((x['latitude'], x['longitude']))\n",
    "    return location.raw['address']['postcode']\n",
    "\n",
    "# applys the function to create a new zipcode column\n",
    "mta['zipcode'] = mta.apply(lambda x: get_zip_code(x), axis=1)\n",
    "\n"
   ]
  },
  {
   "cell_type": "code",
   "execution_count": null,
   "id": "c4ff1cac-9ab5-44da-9f88-18f059a40ea6",
   "metadata": {},
   "outputs": [],
   "source": [
    "mta.head()"
   ]
  },
  {
   "cell_type": "code",
   "execution_count": null,
   "id": "e3723f41-007b-4820-b751-594f466394d0",
   "metadata": {},
   "outputs": [],
   "source": [
    "for column in df.columns:\n",
    "    print(f\"{'transit_mode'}: {df['transit_mode'].unique()}\")"
   ]
  },
  {
   "cell_type": "code",
   "execution_count": null,
   "id": "56d67b2a-8938-44e9-8e47-58b607e625a1",
   "metadata": {},
   "outputs": [],
   "source": []
  },
  {
   "cell_type": "code",
   "execution_count": null,
   "id": "cc5f1615-a9d6-4e0b-9594-7a6a04b1e9ea",
   "metadata": {},
   "outputs": [],
   "source": []
  }
 ],
 "metadata": {
  "kernelspec": {
   "display_name": "Python 3 (ipykernel)",
   "language": "python",
   "name": "python3"
  },
  "language_info": {
   "codemirror_mode": {
    "name": "ipython",
    "version": 3
   },
   "file_extension": ".py",
   "mimetype": "text/x-python",
   "name": "python",
   "nbconvert_exporter": "python",
   "pygments_lexer": "ipython3",
   "version": "3.11.7"
  }
 },
 "nbformat": 4,
 "nbformat_minor": 5
}
