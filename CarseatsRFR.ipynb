{
 "cells": [
  {
   "cell_type": "markdown",
   "id": "780c23b7-b831-4cd2-a83d-1f07b876e730",
   "metadata": {},
   "source": [
    "# __Carseats DataSet Using RandomForestRegressor__"
   ]
  },
  {
   "cell_type": "markdown",
   "id": "b092b218-4ce2-4073-ba85-6186bf3dc91e",
   "metadata": {},
   "source": [
    "### __Importing Data & Libraries__"
   ]
  },
  {
   "cell_type": "code",
   "execution_count": 2,
   "id": "b9bfb6d5-9c80-46a5-855c-c8ce7ed2226e",
   "metadata": {},
   "outputs": [],
   "source": [
    "import numpy as np \n",
    "import pandas as pd\n",
    "import matplotlib.pyplot as plt\n",
    "import scipy.stats as stats\n",
    "import math\n",
    "import seaborn as sns\n",
    "import statsmodels.api as sm\n",
    "\n",
    "from matplotlib.pyplot import subplots\n",
    "from sklearn import preprocessing\n",
    "from sklearn import utils\n",
    "from sklearn.linear_model import LassoLarsCV, LassoCV, ElasticNet\n",
    "from sklearn.datasets import make_regression\n",
    "from sklearn.metrics import r2_score, auc\n",
    "from sklearn.model_selection import train_test_split, KFold  \n",
    "from sklearn.feature_selection import RFE"
   ]
  },
  {
   "cell_type": "code",
   "execution_count": 3,
   "id": "4ec5e7af-7115-4cbc-8207-568296952b66",
   "metadata": {},
   "outputs": [],
   "source": [
    "df = pd.read_csv(\"Carseats.csv\")"
   ]
  },
  {
   "cell_type": "code",
   "execution_count": 4,
   "id": "8449ac5a-0087-4c9b-b7a6-2fadaeaed107",
   "metadata": {},
   "outputs": [
    {
     "data": {
      "text/html": [
       "<div>\n",
       "<style scoped>\n",
       "    .dataframe tbody tr th:only-of-type {\n",
       "        vertical-align: middle;\n",
       "    }\n",
       "\n",
       "    .dataframe tbody tr th {\n",
       "        vertical-align: top;\n",
       "    }\n",
       "\n",
       "    .dataframe thead th {\n",
       "        text-align: right;\n",
       "    }\n",
       "</style>\n",
       "<table border=\"1\" class=\"dataframe\">\n",
       "  <thead>\n",
       "    <tr style=\"text-align: right;\">\n",
       "      <th></th>\n",
       "      <th>Sales</th>\n",
       "      <th>CompPrice</th>\n",
       "      <th>Income</th>\n",
       "      <th>Advertising</th>\n",
       "      <th>Population</th>\n",
       "      <th>Price</th>\n",
       "      <th>ShelveLoc</th>\n",
       "      <th>Age</th>\n",
       "      <th>Education</th>\n",
       "      <th>Urban</th>\n",
       "      <th>US</th>\n",
       "    </tr>\n",
       "  </thead>\n",
       "  <tbody>\n",
       "    <tr>\n",
       "      <th>0</th>\n",
       "      <td>9.50</td>\n",
       "      <td>138</td>\n",
       "      <td>73</td>\n",
       "      <td>11</td>\n",
       "      <td>276</td>\n",
       "      <td>120</td>\n",
       "      <td>Bad</td>\n",
       "      <td>42</td>\n",
       "      <td>17</td>\n",
       "      <td>Yes</td>\n",
       "      <td>Yes</td>\n",
       "    </tr>\n",
       "    <tr>\n",
       "      <th>1</th>\n",
       "      <td>11.22</td>\n",
       "      <td>111</td>\n",
       "      <td>48</td>\n",
       "      <td>16</td>\n",
       "      <td>260</td>\n",
       "      <td>83</td>\n",
       "      <td>Good</td>\n",
       "      <td>65</td>\n",
       "      <td>10</td>\n",
       "      <td>Yes</td>\n",
       "      <td>Yes</td>\n",
       "    </tr>\n",
       "    <tr>\n",
       "      <th>2</th>\n",
       "      <td>10.06</td>\n",
       "      <td>113</td>\n",
       "      <td>35</td>\n",
       "      <td>10</td>\n",
       "      <td>269</td>\n",
       "      <td>80</td>\n",
       "      <td>Medium</td>\n",
       "      <td>59</td>\n",
       "      <td>12</td>\n",
       "      <td>Yes</td>\n",
       "      <td>Yes</td>\n",
       "    </tr>\n",
       "    <tr>\n",
       "      <th>3</th>\n",
       "      <td>7.40</td>\n",
       "      <td>117</td>\n",
       "      <td>100</td>\n",
       "      <td>4</td>\n",
       "      <td>466</td>\n",
       "      <td>97</td>\n",
       "      <td>Medium</td>\n",
       "      <td>55</td>\n",
       "      <td>14</td>\n",
       "      <td>Yes</td>\n",
       "      <td>Yes</td>\n",
       "    </tr>\n",
       "    <tr>\n",
       "      <th>4</th>\n",
       "      <td>4.15</td>\n",
       "      <td>141</td>\n",
       "      <td>64</td>\n",
       "      <td>3</td>\n",
       "      <td>340</td>\n",
       "      <td>128</td>\n",
       "      <td>Bad</td>\n",
       "      <td>38</td>\n",
       "      <td>13</td>\n",
       "      <td>Yes</td>\n",
       "      <td>No</td>\n",
       "    </tr>\n",
       "  </tbody>\n",
       "</table>\n",
       "</div>"
      ],
      "text/plain": [
       "   Sales  CompPrice  Income  Advertising  Population  Price ShelveLoc  Age  \\\n",
       "0   9.50        138      73           11         276    120       Bad   42   \n",
       "1  11.22        111      48           16         260     83      Good   65   \n",
       "2  10.06        113      35           10         269     80    Medium   59   \n",
       "3   7.40        117     100            4         466     97    Medium   55   \n",
       "4   4.15        141      64            3         340    128       Bad   38   \n",
       "\n",
       "   Education Urban   US  \n",
       "0         17   Yes  Yes  \n",
       "1         10   Yes  Yes  \n",
       "2         12   Yes  Yes  \n",
       "3         14   Yes  Yes  \n",
       "4         13   Yes   No  "
      ]
     },
     "execution_count": 4,
     "metadata": {},
     "output_type": "execute_result"
    }
   ],
   "source": [
    "df.head()"
   ]
  },
  {
   "cell_type": "markdown",
   "id": "8f4565a8-9d32-48cc-b120-d1cab8348ffc",
   "metadata": {},
   "source": [
    "### __Cleaning Data__"
   ]
  },
  {
   "cell_type": "code",
   "execution_count": 5,
   "id": "79a69a3f-ff22-4278-8c13-8233dda84675",
   "metadata": {},
   "outputs": [],
   "source": [
    "df['Urban_Yes'] = pd.Series(np.zeros(df.shape[0]))\n",
    "df.loc[df['Urban']=='Yes', 'Urban_Yes'] = 1\n",
    "\n",
    "df['US_Yes'] = pd.Series(np.zeros(df.shape[0]))\n",
    "df.loc[df['US']=='Yes', 'US_Yes'] = 1\n",
    "\n",
    "df['ShelveLoc_rank'] = pd.Series(np.zeros(df.shape[0]))\n",
    "df.loc[df['ShelveLoc']=='Bad', 'ShelveLoc_rank'] = -1\n",
    "df.loc[df['ShelveLoc']=='Good', 'ShelveLoc_rank'] = 1"
   ]
  },
  {
   "cell_type": "code",
   "execution_count": 6,
   "id": "a2240900-b344-48ba-bcde-05e186ec5ed2",
   "metadata": {},
   "outputs": [
    {
     "data": {
      "text/html": [
       "<div>\n",
       "<style scoped>\n",
       "    .dataframe tbody tr th:only-of-type {\n",
       "        vertical-align: middle;\n",
       "    }\n",
       "\n",
       "    .dataframe tbody tr th {\n",
       "        vertical-align: top;\n",
       "    }\n",
       "\n",
       "    .dataframe thead th {\n",
       "        text-align: right;\n",
       "    }\n",
       "</style>\n",
       "<table border=\"1\" class=\"dataframe\">\n",
       "  <thead>\n",
       "    <tr style=\"text-align: right;\">\n",
       "      <th></th>\n",
       "      <th>Sales</th>\n",
       "      <th>CompPrice</th>\n",
       "      <th>Income</th>\n",
       "      <th>Advertising</th>\n",
       "      <th>Population</th>\n",
       "      <th>Price</th>\n",
       "      <th>ShelveLoc</th>\n",
       "      <th>Age</th>\n",
       "      <th>Education</th>\n",
       "      <th>Urban</th>\n",
       "      <th>US</th>\n",
       "      <th>Urban_Yes</th>\n",
       "      <th>US_Yes</th>\n",
       "      <th>ShelveLoc_rank</th>\n",
       "    </tr>\n",
       "  </thead>\n",
       "  <tbody>\n",
       "    <tr>\n",
       "      <th>0</th>\n",
       "      <td>9.50</td>\n",
       "      <td>138</td>\n",
       "      <td>73</td>\n",
       "      <td>11</td>\n",
       "      <td>276</td>\n",
       "      <td>120</td>\n",
       "      <td>Bad</td>\n",
       "      <td>42</td>\n",
       "      <td>17</td>\n",
       "      <td>Yes</td>\n",
       "      <td>Yes</td>\n",
       "      <td>1.0</td>\n",
       "      <td>1.0</td>\n",
       "      <td>-1.0</td>\n",
       "    </tr>\n",
       "    <tr>\n",
       "      <th>1</th>\n",
       "      <td>11.22</td>\n",
       "      <td>111</td>\n",
       "      <td>48</td>\n",
       "      <td>16</td>\n",
       "      <td>260</td>\n",
       "      <td>83</td>\n",
       "      <td>Good</td>\n",
       "      <td>65</td>\n",
       "      <td>10</td>\n",
       "      <td>Yes</td>\n",
       "      <td>Yes</td>\n",
       "      <td>1.0</td>\n",
       "      <td>1.0</td>\n",
       "      <td>1.0</td>\n",
       "    </tr>\n",
       "    <tr>\n",
       "      <th>2</th>\n",
       "      <td>10.06</td>\n",
       "      <td>113</td>\n",
       "      <td>35</td>\n",
       "      <td>10</td>\n",
       "      <td>269</td>\n",
       "      <td>80</td>\n",
       "      <td>Medium</td>\n",
       "      <td>59</td>\n",
       "      <td>12</td>\n",
       "      <td>Yes</td>\n",
       "      <td>Yes</td>\n",
       "      <td>1.0</td>\n",
       "      <td>1.0</td>\n",
       "      <td>0.0</td>\n",
       "    </tr>\n",
       "    <tr>\n",
       "      <th>3</th>\n",
       "      <td>7.40</td>\n",
       "      <td>117</td>\n",
       "      <td>100</td>\n",
       "      <td>4</td>\n",
       "      <td>466</td>\n",
       "      <td>97</td>\n",
       "      <td>Medium</td>\n",
       "      <td>55</td>\n",
       "      <td>14</td>\n",
       "      <td>Yes</td>\n",
       "      <td>Yes</td>\n",
       "      <td>1.0</td>\n",
       "      <td>1.0</td>\n",
       "      <td>0.0</td>\n",
       "    </tr>\n",
       "    <tr>\n",
       "      <th>4</th>\n",
       "      <td>4.15</td>\n",
       "      <td>141</td>\n",
       "      <td>64</td>\n",
       "      <td>3</td>\n",
       "      <td>340</td>\n",
       "      <td>128</td>\n",
       "      <td>Bad</td>\n",
       "      <td>38</td>\n",
       "      <td>13</td>\n",
       "      <td>Yes</td>\n",
       "      <td>No</td>\n",
       "      <td>1.0</td>\n",
       "      <td>0.0</td>\n",
       "      <td>-1.0</td>\n",
       "    </tr>\n",
       "    <tr>\n",
       "      <th>...</th>\n",
       "      <td>...</td>\n",
       "      <td>...</td>\n",
       "      <td>...</td>\n",
       "      <td>...</td>\n",
       "      <td>...</td>\n",
       "      <td>...</td>\n",
       "      <td>...</td>\n",
       "      <td>...</td>\n",
       "      <td>...</td>\n",
       "      <td>...</td>\n",
       "      <td>...</td>\n",
       "      <td>...</td>\n",
       "      <td>...</td>\n",
       "      <td>...</td>\n",
       "    </tr>\n",
       "    <tr>\n",
       "      <th>395</th>\n",
       "      <td>12.57</td>\n",
       "      <td>138</td>\n",
       "      <td>108</td>\n",
       "      <td>17</td>\n",
       "      <td>203</td>\n",
       "      <td>128</td>\n",
       "      <td>Good</td>\n",
       "      <td>33</td>\n",
       "      <td>14</td>\n",
       "      <td>Yes</td>\n",
       "      <td>Yes</td>\n",
       "      <td>1.0</td>\n",
       "      <td>1.0</td>\n",
       "      <td>1.0</td>\n",
       "    </tr>\n",
       "    <tr>\n",
       "      <th>396</th>\n",
       "      <td>6.14</td>\n",
       "      <td>139</td>\n",
       "      <td>23</td>\n",
       "      <td>3</td>\n",
       "      <td>37</td>\n",
       "      <td>120</td>\n",
       "      <td>Medium</td>\n",
       "      <td>55</td>\n",
       "      <td>11</td>\n",
       "      <td>No</td>\n",
       "      <td>Yes</td>\n",
       "      <td>0.0</td>\n",
       "      <td>1.0</td>\n",
       "      <td>0.0</td>\n",
       "    </tr>\n",
       "    <tr>\n",
       "      <th>397</th>\n",
       "      <td>7.41</td>\n",
       "      <td>162</td>\n",
       "      <td>26</td>\n",
       "      <td>12</td>\n",
       "      <td>368</td>\n",
       "      <td>159</td>\n",
       "      <td>Medium</td>\n",
       "      <td>40</td>\n",
       "      <td>18</td>\n",
       "      <td>Yes</td>\n",
       "      <td>Yes</td>\n",
       "      <td>1.0</td>\n",
       "      <td>1.0</td>\n",
       "      <td>0.0</td>\n",
       "    </tr>\n",
       "    <tr>\n",
       "      <th>398</th>\n",
       "      <td>5.94</td>\n",
       "      <td>100</td>\n",
       "      <td>79</td>\n",
       "      <td>7</td>\n",
       "      <td>284</td>\n",
       "      <td>95</td>\n",
       "      <td>Bad</td>\n",
       "      <td>50</td>\n",
       "      <td>12</td>\n",
       "      <td>Yes</td>\n",
       "      <td>Yes</td>\n",
       "      <td>1.0</td>\n",
       "      <td>1.0</td>\n",
       "      <td>-1.0</td>\n",
       "    </tr>\n",
       "    <tr>\n",
       "      <th>399</th>\n",
       "      <td>9.71</td>\n",
       "      <td>134</td>\n",
       "      <td>37</td>\n",
       "      <td>0</td>\n",
       "      <td>27</td>\n",
       "      <td>120</td>\n",
       "      <td>Good</td>\n",
       "      <td>49</td>\n",
       "      <td>16</td>\n",
       "      <td>Yes</td>\n",
       "      <td>Yes</td>\n",
       "      <td>1.0</td>\n",
       "      <td>1.0</td>\n",
       "      <td>1.0</td>\n",
       "    </tr>\n",
       "  </tbody>\n",
       "</table>\n",
       "<p>400 rows × 14 columns</p>\n",
       "</div>"
      ],
      "text/plain": [
       "     Sales  CompPrice  Income  Advertising  Population  Price ShelveLoc  Age  \\\n",
       "0     9.50        138      73           11         276    120       Bad   42   \n",
       "1    11.22        111      48           16         260     83      Good   65   \n",
       "2    10.06        113      35           10         269     80    Medium   59   \n",
       "3     7.40        117     100            4         466     97    Medium   55   \n",
       "4     4.15        141      64            3         340    128       Bad   38   \n",
       "..     ...        ...     ...          ...         ...    ...       ...  ...   \n",
       "395  12.57        138     108           17         203    128      Good   33   \n",
       "396   6.14        139      23            3          37    120    Medium   55   \n",
       "397   7.41        162      26           12         368    159    Medium   40   \n",
       "398   5.94        100      79            7         284     95       Bad   50   \n",
       "399   9.71        134      37            0          27    120      Good   49   \n",
       "\n",
       "     Education Urban   US  Urban_Yes  US_Yes  ShelveLoc_rank  \n",
       "0           17   Yes  Yes        1.0     1.0            -1.0  \n",
       "1           10   Yes  Yes        1.0     1.0             1.0  \n",
       "2           12   Yes  Yes        1.0     1.0             0.0  \n",
       "3           14   Yes  Yes        1.0     1.0             0.0  \n",
       "4           13   Yes   No        1.0     0.0            -1.0  \n",
       "..         ...   ...  ...        ...     ...             ...  \n",
       "395         14   Yes  Yes        1.0     1.0             1.0  \n",
       "396         11    No  Yes        0.0     1.0             0.0  \n",
       "397         18   Yes  Yes        1.0     1.0             0.0  \n",
       "398         12   Yes  Yes        1.0     1.0            -1.0  \n",
       "399         16   Yes  Yes        1.0     1.0             1.0  \n",
       "\n",
       "[400 rows x 14 columns]"
      ]
     },
     "execution_count": 6,
     "metadata": {},
     "output_type": "execute_result"
    }
   ],
   "source": [
    "df"
   ]
  },
  {
   "cell_type": "code",
   "execution_count": 7,
   "id": "177e2c54-23f2-4af8-a04a-6e0d5112d37f",
   "metadata": {},
   "outputs": [],
   "source": [
    "del df[\"ShelveLoc\"]\n",
    "del df[\"Urban\"]\n",
    "del df[\"US\"]"
   ]
  },
  {
   "cell_type": "code",
   "execution_count": 8,
   "id": "7788ed2e-57d2-430b-8f02-49ca04119a33",
   "metadata": {},
   "outputs": [
    {
     "data": {
      "text/plain": [
       "Sales             0\n",
       "CompPrice         0\n",
       "Income            0\n",
       "Advertising       0\n",
       "Population        0\n",
       "Price             0\n",
       "Age               0\n",
       "Education         0\n",
       "Urban_Yes         0\n",
       "US_Yes            0\n",
       "ShelveLoc_rank    0\n",
       "dtype: int64"
      ]
     },
     "execution_count": 8,
     "metadata": {},
     "output_type": "execute_result"
    }
   ],
   "source": [
    "df.isnull().sum()"
   ]
  },
  {
   "cell_type": "code",
   "execution_count": 9,
   "id": "2eee4fb3-812a-46fb-9f27-f299617c7726",
   "metadata": {},
   "outputs": [
    {
     "data": {
      "text/html": [
       "<div>\n",
       "<style scoped>\n",
       "    .dataframe tbody tr th:only-of-type {\n",
       "        vertical-align: middle;\n",
       "    }\n",
       "\n",
       "    .dataframe tbody tr th {\n",
       "        vertical-align: top;\n",
       "    }\n",
       "\n",
       "    .dataframe thead th {\n",
       "        text-align: right;\n",
       "    }\n",
       "</style>\n",
       "<table border=\"1\" class=\"dataframe\">\n",
       "  <thead>\n",
       "    <tr style=\"text-align: right;\">\n",
       "      <th></th>\n",
       "      <th>Sales</th>\n",
       "      <th>CompPrice</th>\n",
       "      <th>Income</th>\n",
       "      <th>Advertising</th>\n",
       "      <th>Population</th>\n",
       "      <th>Price</th>\n",
       "      <th>Age</th>\n",
       "      <th>Education</th>\n",
       "      <th>Urban_Yes</th>\n",
       "      <th>US_Yes</th>\n",
       "      <th>ShelveLoc_rank</th>\n",
       "    </tr>\n",
       "  </thead>\n",
       "  <tbody>\n",
       "    <tr>\n",
       "      <th>count</th>\n",
       "      <td>400.000000</td>\n",
       "      <td>400.000000</td>\n",
       "      <td>400.000000</td>\n",
       "      <td>400.000000</td>\n",
       "      <td>400.000000</td>\n",
       "      <td>400.000000</td>\n",
       "      <td>400.000000</td>\n",
       "      <td>400.000000</td>\n",
       "      <td>400.000000</td>\n",
       "      <td>400.000000</td>\n",
       "      <td>400.000000</td>\n",
       "    </tr>\n",
       "    <tr>\n",
       "      <th>mean</th>\n",
       "      <td>7.496325</td>\n",
       "      <td>124.975000</td>\n",
       "      <td>68.657500</td>\n",
       "      <td>6.635000</td>\n",
       "      <td>264.840000</td>\n",
       "      <td>115.795000</td>\n",
       "      <td>53.322500</td>\n",
       "      <td>13.900000</td>\n",
       "      <td>0.705000</td>\n",
       "      <td>0.645000</td>\n",
       "      <td>-0.027500</td>\n",
       "    </tr>\n",
       "    <tr>\n",
       "      <th>std</th>\n",
       "      <td>2.824115</td>\n",
       "      <td>15.334512</td>\n",
       "      <td>27.986037</td>\n",
       "      <td>6.650364</td>\n",
       "      <td>147.376436</td>\n",
       "      <td>23.676664</td>\n",
       "      <td>16.200297</td>\n",
       "      <td>2.620528</td>\n",
       "      <td>0.456614</td>\n",
       "      <td>0.479113</td>\n",
       "      <td>0.672961</td>\n",
       "    </tr>\n",
       "    <tr>\n",
       "      <th>min</th>\n",
       "      <td>0.000000</td>\n",
       "      <td>77.000000</td>\n",
       "      <td>21.000000</td>\n",
       "      <td>0.000000</td>\n",
       "      <td>10.000000</td>\n",
       "      <td>24.000000</td>\n",
       "      <td>25.000000</td>\n",
       "      <td>10.000000</td>\n",
       "      <td>0.000000</td>\n",
       "      <td>0.000000</td>\n",
       "      <td>-1.000000</td>\n",
       "    </tr>\n",
       "    <tr>\n",
       "      <th>25%</th>\n",
       "      <td>5.390000</td>\n",
       "      <td>115.000000</td>\n",
       "      <td>42.750000</td>\n",
       "      <td>0.000000</td>\n",
       "      <td>139.000000</td>\n",
       "      <td>100.000000</td>\n",
       "      <td>39.750000</td>\n",
       "      <td>12.000000</td>\n",
       "      <td>0.000000</td>\n",
       "      <td>0.000000</td>\n",
       "      <td>0.000000</td>\n",
       "    </tr>\n",
       "    <tr>\n",
       "      <th>50%</th>\n",
       "      <td>7.490000</td>\n",
       "      <td>125.000000</td>\n",
       "      <td>69.000000</td>\n",
       "      <td>5.000000</td>\n",
       "      <td>272.000000</td>\n",
       "      <td>117.000000</td>\n",
       "      <td>54.500000</td>\n",
       "      <td>14.000000</td>\n",
       "      <td>1.000000</td>\n",
       "      <td>1.000000</td>\n",
       "      <td>0.000000</td>\n",
       "    </tr>\n",
       "    <tr>\n",
       "      <th>75%</th>\n",
       "      <td>9.320000</td>\n",
       "      <td>135.000000</td>\n",
       "      <td>91.000000</td>\n",
       "      <td>12.000000</td>\n",
       "      <td>398.500000</td>\n",
       "      <td>131.000000</td>\n",
       "      <td>66.000000</td>\n",
       "      <td>16.000000</td>\n",
       "      <td>1.000000</td>\n",
       "      <td>1.000000</td>\n",
       "      <td>0.000000</td>\n",
       "    </tr>\n",
       "    <tr>\n",
       "      <th>max</th>\n",
       "      <td>16.270000</td>\n",
       "      <td>175.000000</td>\n",
       "      <td>120.000000</td>\n",
       "      <td>29.000000</td>\n",
       "      <td>509.000000</td>\n",
       "      <td>191.000000</td>\n",
       "      <td>80.000000</td>\n",
       "      <td>18.000000</td>\n",
       "      <td>1.000000</td>\n",
       "      <td>1.000000</td>\n",
       "      <td>1.000000</td>\n",
       "    </tr>\n",
       "  </tbody>\n",
       "</table>\n",
       "</div>"
      ],
      "text/plain": [
       "            Sales   CompPrice      Income  Advertising  Population  \\\n",
       "count  400.000000  400.000000  400.000000   400.000000  400.000000   \n",
       "mean     7.496325  124.975000   68.657500     6.635000  264.840000   \n",
       "std      2.824115   15.334512   27.986037     6.650364  147.376436   \n",
       "min      0.000000   77.000000   21.000000     0.000000   10.000000   \n",
       "25%      5.390000  115.000000   42.750000     0.000000  139.000000   \n",
       "50%      7.490000  125.000000   69.000000     5.000000  272.000000   \n",
       "75%      9.320000  135.000000   91.000000    12.000000  398.500000   \n",
       "max     16.270000  175.000000  120.000000    29.000000  509.000000   \n",
       "\n",
       "            Price         Age   Education   Urban_Yes      US_Yes  \\\n",
       "count  400.000000  400.000000  400.000000  400.000000  400.000000   \n",
       "mean   115.795000   53.322500   13.900000    0.705000    0.645000   \n",
       "std     23.676664   16.200297    2.620528    0.456614    0.479113   \n",
       "min     24.000000   25.000000   10.000000    0.000000    0.000000   \n",
       "25%    100.000000   39.750000   12.000000    0.000000    0.000000   \n",
       "50%    117.000000   54.500000   14.000000    1.000000    1.000000   \n",
       "75%    131.000000   66.000000   16.000000    1.000000    1.000000   \n",
       "max    191.000000   80.000000   18.000000    1.000000    1.000000   \n",
       "\n",
       "       ShelveLoc_rank  \n",
       "count      400.000000  \n",
       "mean        -0.027500  \n",
       "std          0.672961  \n",
       "min         -1.000000  \n",
       "25%          0.000000  \n",
       "50%          0.000000  \n",
       "75%          0.000000  \n",
       "max          1.000000  "
      ]
     },
     "execution_count": 9,
     "metadata": {},
     "output_type": "execute_result"
    }
   ],
   "source": [
    "df.describe()"
   ]
  },
  {
   "cell_type": "code",
   "execution_count": 10,
   "id": "73cb7b1e-c506-4b9c-86d6-eb4732b8665c",
   "metadata": {},
   "outputs": [
    {
     "name": "stdout",
     "output_type": "stream",
     "text": [
      "<class 'pandas.core.frame.DataFrame'>\n",
      "RangeIndex: 400 entries, 0 to 399\n",
      "Data columns (total 11 columns):\n",
      " #   Column          Non-Null Count  Dtype  \n",
      "---  ------          --------------  -----  \n",
      " 0   Sales           400 non-null    float64\n",
      " 1   CompPrice       400 non-null    int64  \n",
      " 2   Income          400 non-null    int64  \n",
      " 3   Advertising     400 non-null    int64  \n",
      " 4   Population      400 non-null    int64  \n",
      " 5   Price           400 non-null    int64  \n",
      " 6   Age             400 non-null    int64  \n",
      " 7   Education       400 non-null    int64  \n",
      " 8   Urban_Yes       400 non-null    float64\n",
      " 9   US_Yes          400 non-null    float64\n",
      " 10  ShelveLoc_rank  400 non-null    float64\n",
      "dtypes: float64(4), int64(7)\n",
      "memory usage: 34.5 KB\n"
     ]
    }
   ],
   "source": [
    "df.info()"
   ]
  },
  {
   "cell_type": "markdown",
   "id": "5699b4d2-1870-4735-b6ef-39122832edac",
   "metadata": {},
   "source": [
    "### __Train/Testing Set Split__"
   ]
  },
  {
   "cell_type": "code",
   "execution_count": 11,
   "id": "93a12e88-1f95-4c37-81a7-2cf66f91da18",
   "metadata": {},
   "outputs": [
    {
     "name": "stderr",
     "output_type": "stream",
     "text": [
      "/var/folders/bd/_pjrwxy561dd1kcr3p6bmpfr0000gn/T/ipykernel_77365/282845230.py:2: SettingWithCopyWarning: \n",
      "A value is trying to be set on a copy of a slice from a DataFrame.\n",
      "Try using .loc[row_indexer,col_indexer] = value instead\n",
      "\n",
      "See the caveats in the documentation: https://pandas.pydata.org/pandas-docs/stable/user_guide/indexing.html#returning-a-view-versus-a-copy\n",
      "  X['intercept']= np.ones(df.shape[0])\n"
     ]
    }
   ],
   "source": [
    "X = df[[\"ShelveLoc_rank\",\"Age\", \"Price\", \"Income\", \"Advertising\", \"CompPrice\"]]\n",
    "X['intercept']= np.ones(df.shape[0])\n",
    "y = df.iloc[:, 0]"
   ]
  },
  {
   "cell_type": "code",
   "execution_count": 12,
   "id": "790f7d0d-2b68-4fc2-b79e-6b3e1b14415f",
   "metadata": {},
   "outputs": [
    {
     "data": {
      "text/html": [
       "<div>\n",
       "<style scoped>\n",
       "    .dataframe tbody tr th:only-of-type {\n",
       "        vertical-align: middle;\n",
       "    }\n",
       "\n",
       "    .dataframe tbody tr th {\n",
       "        vertical-align: top;\n",
       "    }\n",
       "\n",
       "    .dataframe thead th {\n",
       "        text-align: right;\n",
       "    }\n",
       "</style>\n",
       "<table border=\"1\" class=\"dataframe\">\n",
       "  <thead>\n",
       "    <tr style=\"text-align: right;\">\n",
       "      <th></th>\n",
       "      <th>ShelveLoc_rank</th>\n",
       "      <th>Age</th>\n",
       "      <th>Price</th>\n",
       "      <th>Income</th>\n",
       "      <th>Advertising</th>\n",
       "      <th>CompPrice</th>\n",
       "      <th>intercept</th>\n",
       "    </tr>\n",
       "  </thead>\n",
       "  <tbody>\n",
       "    <tr>\n",
       "      <th>0</th>\n",
       "      <td>-1.0</td>\n",
       "      <td>42</td>\n",
       "      <td>120</td>\n",
       "      <td>73</td>\n",
       "      <td>11</td>\n",
       "      <td>138</td>\n",
       "      <td>1.0</td>\n",
       "    </tr>\n",
       "    <tr>\n",
       "      <th>1</th>\n",
       "      <td>1.0</td>\n",
       "      <td>65</td>\n",
       "      <td>83</td>\n",
       "      <td>48</td>\n",
       "      <td>16</td>\n",
       "      <td>111</td>\n",
       "      <td>1.0</td>\n",
       "    </tr>\n",
       "    <tr>\n",
       "      <th>2</th>\n",
       "      <td>0.0</td>\n",
       "      <td>59</td>\n",
       "      <td>80</td>\n",
       "      <td>35</td>\n",
       "      <td>10</td>\n",
       "      <td>113</td>\n",
       "      <td>1.0</td>\n",
       "    </tr>\n",
       "    <tr>\n",
       "      <th>3</th>\n",
       "      <td>0.0</td>\n",
       "      <td>55</td>\n",
       "      <td>97</td>\n",
       "      <td>100</td>\n",
       "      <td>4</td>\n",
       "      <td>117</td>\n",
       "      <td>1.0</td>\n",
       "    </tr>\n",
       "    <tr>\n",
       "      <th>4</th>\n",
       "      <td>-1.0</td>\n",
       "      <td>38</td>\n",
       "      <td>128</td>\n",
       "      <td>64</td>\n",
       "      <td>3</td>\n",
       "      <td>141</td>\n",
       "      <td>1.0</td>\n",
       "    </tr>\n",
       "  </tbody>\n",
       "</table>\n",
       "</div>"
      ],
      "text/plain": [
       "   ShelveLoc_rank  Age  Price  Income  Advertising  CompPrice  intercept\n",
       "0            -1.0   42    120      73           11        138        1.0\n",
       "1             1.0   65     83      48           16        111        1.0\n",
       "2             0.0   59     80      35           10        113        1.0\n",
       "3             0.0   55     97     100            4        117        1.0\n",
       "4            -1.0   38    128      64            3        141        1.0"
      ]
     },
     "execution_count": 12,
     "metadata": {},
     "output_type": "execute_result"
    }
   ],
   "source": [
    "X.head()"
   ]
  },
  {
   "cell_type": "code",
   "execution_count": 13,
   "id": "1e1e511e-3dfa-4ad1-b72b-34e1bd573e28",
   "metadata": {},
   "outputs": [
    {
     "data": {
      "text/plain": [
       "0     9.50\n",
       "1    11.22\n",
       "2    10.06\n",
       "3     7.40\n",
       "4     4.15\n",
       "Name: Sales, dtype: float64"
      ]
     },
     "execution_count": 13,
     "metadata": {},
     "output_type": "execute_result"
    }
   ],
   "source": [
    "y.head()"
   ]
  },
  {
   "cell_type": "code",
   "execution_count": 14,
   "id": "bcb94e31-b29f-4163-9f00-9b2caac20b28",
   "metadata": {},
   "outputs": [],
   "source": [
    "from sklearn.model_selection import train_test_split\n",
    "X_train, X_test, y_train, y_test = train_test_split(X,y,test_size= 0.30,random_state = 21)"
   ]
  },
  {
   "cell_type": "markdown",
   "id": "905f2098-aa19-4f25-85bc-6d17f19b69f3",
   "metadata": {},
   "source": [
    "### __RandomForestRegressor Integration__"
   ]
  },
  {
   "cell_type": "code",
   "execution_count": 15,
   "id": "b805646e-6e26-4cff-9eb3-5022af99f320",
   "metadata": {},
   "outputs": [],
   "source": [
    "from sklearn.ensemble import RandomForestRegressor\n",
    "rfr = RandomForestRegressor(n_estimators= 500)"
   ]
  },
  {
   "cell_type": "code",
   "execution_count": 16,
   "id": "3fa13e57-ac94-4b20-ad6d-8e4da08174eb",
   "metadata": {},
   "outputs": [
    {
     "data": {
      "text/html": [
       "<style>#sk-container-id-1 {color: black;background-color: white;}#sk-container-id-1 pre{padding: 0;}#sk-container-id-1 div.sk-toggleable {background-color: white;}#sk-container-id-1 label.sk-toggleable__label {cursor: pointer;display: block;width: 100%;margin-bottom: 0;padding: 0.3em;box-sizing: border-box;text-align: center;}#sk-container-id-1 label.sk-toggleable__label-arrow:before {content: \"▸\";float: left;margin-right: 0.25em;color: #696969;}#sk-container-id-1 label.sk-toggleable__label-arrow:hover:before {color: black;}#sk-container-id-1 div.sk-estimator:hover label.sk-toggleable__label-arrow:before {color: black;}#sk-container-id-1 div.sk-toggleable__content {max-height: 0;max-width: 0;overflow: hidden;text-align: left;background-color: #f0f8ff;}#sk-container-id-1 div.sk-toggleable__content pre {margin: 0.2em;color: black;border-radius: 0.25em;background-color: #f0f8ff;}#sk-container-id-1 input.sk-toggleable__control:checked~div.sk-toggleable__content {max-height: 200px;max-width: 100%;overflow: auto;}#sk-container-id-1 input.sk-toggleable__control:checked~label.sk-toggleable__label-arrow:before {content: \"▾\";}#sk-container-id-1 div.sk-estimator input.sk-toggleable__control:checked~label.sk-toggleable__label {background-color: #d4ebff;}#sk-container-id-1 div.sk-label input.sk-toggleable__control:checked~label.sk-toggleable__label {background-color: #d4ebff;}#sk-container-id-1 input.sk-hidden--visually {border: 0;clip: rect(1px 1px 1px 1px);clip: rect(1px, 1px, 1px, 1px);height: 1px;margin: -1px;overflow: hidden;padding: 0;position: absolute;width: 1px;}#sk-container-id-1 div.sk-estimator {font-family: monospace;background-color: #f0f8ff;border: 1px dotted black;border-radius: 0.25em;box-sizing: border-box;margin-bottom: 0.5em;}#sk-container-id-1 div.sk-estimator:hover {background-color: #d4ebff;}#sk-container-id-1 div.sk-parallel-item::after {content: \"\";width: 100%;border-bottom: 1px solid gray;flex-grow: 1;}#sk-container-id-1 div.sk-label:hover label.sk-toggleable__label {background-color: #d4ebff;}#sk-container-id-1 div.sk-serial::before {content: \"\";position: absolute;border-left: 1px solid gray;box-sizing: border-box;top: 0;bottom: 0;left: 50%;z-index: 0;}#sk-container-id-1 div.sk-serial {display: flex;flex-direction: column;align-items: center;background-color: white;padding-right: 0.2em;padding-left: 0.2em;position: relative;}#sk-container-id-1 div.sk-item {position: relative;z-index: 1;}#sk-container-id-1 div.sk-parallel {display: flex;align-items: stretch;justify-content: center;background-color: white;position: relative;}#sk-container-id-1 div.sk-item::before, #sk-container-id-1 div.sk-parallel-item::before {content: \"\";position: absolute;border-left: 1px solid gray;box-sizing: border-box;top: 0;bottom: 0;left: 50%;z-index: -1;}#sk-container-id-1 div.sk-parallel-item {display: flex;flex-direction: column;z-index: 1;position: relative;background-color: white;}#sk-container-id-1 div.sk-parallel-item:first-child::after {align-self: flex-end;width: 50%;}#sk-container-id-1 div.sk-parallel-item:last-child::after {align-self: flex-start;width: 50%;}#sk-container-id-1 div.sk-parallel-item:only-child::after {width: 0;}#sk-container-id-1 div.sk-dashed-wrapped {border: 1px dashed gray;margin: 0 0.4em 0.5em 0.4em;box-sizing: border-box;padding-bottom: 0.4em;background-color: white;}#sk-container-id-1 div.sk-label label {font-family: monospace;font-weight: bold;display: inline-block;line-height: 1.2em;}#sk-container-id-1 div.sk-label-container {text-align: center;}#sk-container-id-1 div.sk-container {/* jupyter's `normalize.less` sets `[hidden] { display: none; }` but bootstrap.min.css set `[hidden] { display: none !important; }` so we also need the `!important` here to be able to override the default hidden behavior on the sphinx rendered scikit-learn.org. See: https://github.com/scikit-learn/scikit-learn/issues/21755 */display: inline-block !important;position: relative;}#sk-container-id-1 div.sk-text-repr-fallback {display: none;}</style><div id=\"sk-container-id-1\" class=\"sk-top-container\"><div class=\"sk-text-repr-fallback\"><pre>RandomForestRegressor(n_estimators=500)</pre><b>In a Jupyter environment, please rerun this cell to show the HTML representation or trust the notebook. <br />On GitHub, the HTML representation is unable to render, please try loading this page with nbviewer.org.</b></div><div class=\"sk-container\" hidden><div class=\"sk-item\"><div class=\"sk-estimator sk-toggleable\"><input class=\"sk-toggleable__control sk-hidden--visually\" id=\"sk-estimator-id-1\" type=\"checkbox\" checked><label for=\"sk-estimator-id-1\" class=\"sk-toggleable__label sk-toggleable__label-arrow\">RandomForestRegressor</label><div class=\"sk-toggleable__content\"><pre>RandomForestRegressor(n_estimators=500)</pre></div></div></div></div></div>"
      ],
      "text/plain": [
       "RandomForestRegressor(n_estimators=500)"
      ]
     },
     "execution_count": 16,
     "metadata": {},
     "output_type": "execute_result"
    }
   ],
   "source": [
    "#Fitting the model onto the training set\n",
    "rfr.fit(X_train, y_train)"
   ]
  },
  {
   "cell_type": "markdown",
   "id": "6206c514-6654-4464-913d-f96bc991a99a",
   "metadata": {},
   "source": [
    "#__training model evaluation__"
   ]
  },
  {
   "cell_type": "code",
   "execution_count": 17,
   "id": "471df49b-d65f-434f-b7bc-e8bb3c71569f",
   "metadata": {},
   "outputs": [],
   "source": [
    "from sklearn.metrics import mean_absolute_error, mean_squared_error, explained_variance_score, r2_score"
   ]
  },
  {
   "cell_type": "code",
   "execution_count": 18,
   "id": "f6a1fd10-56c5-4223-9347-ddce6ef6729a",
   "metadata": {},
   "outputs": [
    {
     "data": {
      "text/plain": [
       "0.9639556657766921"
      ]
     },
     "execution_count": 18,
     "metadata": {},
     "output_type": "execute_result"
    }
   ],
   "source": [
    "# Accuracy Score of Fitted Training Model\n",
    "rfr.score(X_train, y_train)"
   ]
  },
  {
   "cell_type": "code",
   "execution_count": 19,
   "id": "45235165-4f9a-410a-95c9-0305d18abeba",
   "metadata": {},
   "outputs": [],
   "source": [
    "#Made a prediction function for training dataset\n",
    "y_pred = rfr.predict(X_train)"
   ]
  },
  {
   "cell_type": "code",
   "execution_count": 20,
   "id": "7482dc98-c712-489f-8d57-3d092cedc0a6",
   "metadata": {},
   "outputs": [
    {
     "data": {
      "text/plain": [
       "array([ 6.24424,  8.9755 , 10.65548,  5.4423 ,  7.21354,  2.2417 ,\n",
       "       11.61176,  6.88332,  4.95456,  6.5076 ,  5.60518, 10.49792,\n",
       "        6.38028,  7.23796,  8.13084, 11.93984,  4.10976, 11.27584,\n",
       "       12.99834,  4.18864,  4.87178,  6.73954,  6.06632, 12.7718 ,\n",
       "        8.07646,  4.9677 ,  9.0916 ,  9.18398, 12.26764, 14.85108,\n",
       "        6.25418, 11.42772,  6.2338 , 10.59402,  9.10042, 12.69372,\n",
       "        9.3537 ,  8.80254,  2.95174,  5.8354 ,  5.40096,  8.0772 ,\n",
       "        6.22138,  4.97178,  8.249  ,  7.9964 , 11.25854,  4.30646,\n",
       "       13.95002,  2.79422,  6.52004,  3.88952,  5.29398, 11.92594,\n",
       "        3.8222 ,  8.3105 ,  7.50808,  5.50728,  6.3011 ,  6.4496 ,\n",
       "       12.05586,  6.64672,  7.21426, 11.95672, 10.71594,  5.13154,\n",
       "        6.4024 ,  9.08404,  9.74988,  6.39162,  6.70634, 11.42534,\n",
       "        4.3809 ,  8.00224,  8.08158,  8.96414, 11.075  ,  8.49718,\n",
       "        5.11384, 10.67076, 12.06694,  8.50364,  9.83586,  9.28272,\n",
       "        8.16696, 10.1096 ,  9.48372, 11.15124,  7.93424,  7.16658,\n",
       "        4.60644,  7.04676,  3.33528, 11.65386,  9.13858,  7.3343 ,\n",
       "        5.1665 , 11.16244, 11.7754 ,  9.48868,  5.32874,  5.74554,\n",
       "        4.97936,  9.77122,  5.61162,  5.3648 ,  7.95438, 10.4647 ,\n",
       "        4.17016,  8.52878,  9.98344,  7.54976,  6.5283 ,  6.12106,\n",
       "       10.64384, 10.64886,  8.33412,  4.11668,  4.6476 ,  3.97112,\n",
       "        5.6877 ,  7.94018,  5.4317 ,  4.9385 ,  8.25834, 10.67376,\n",
       "       13.6221 ,  6.35712,  6.93932,  4.64794,  7.09886,  4.68844,\n",
       "       10.78126,  8.0246 ,  9.51242,  3.96588,  8.22872,  5.12892,\n",
       "        7.69152,  4.76544,  5.99158,  8.64144,  9.79944,  5.2787 ,\n",
       "        9.42564, 12.18592,  6.0886 ,  8.58182,  7.14732,  3.6543 ,\n",
       "        5.78694,  7.63206, 12.5525 ,  8.42514,  5.70184,  8.52034,\n",
       "       10.93124, 10.42678,  3.56012,  7.84246, 13.08608,  6.1805 ,\n",
       "        8.19268,  7.45258,  5.97492,  7.70576,  9.77728,  7.42106,\n",
       "        5.73926,  8.3291 ,  7.4047 ,  5.4287 , 11.69458,  6.19836,\n",
       "        8.1224 ,  9.57904,  5.18574, 11.0525 ,  4.74678,  8.76816,\n",
       "        8.78664,  6.26444,  7.25262,  7.30278,  7.05088,  9.5672 ,\n",
       "        3.73472,  5.40158,  8.53728,  6.03438, 11.11518,  7.93476,\n",
       "        9.55672, 12.10468,  3.99848,  8.85666,  9.8678 , 10.47946,\n",
       "        4.35968, 13.2953 , 11.14218, 10.28646,  9.82056,  5.3317 ,\n",
       "       10.06636,  6.49518,  8.0994 ,  8.02624, 11.05006, 11.23112,\n",
       "        3.69134,  5.6592 ,  5.18208,  6.47482,  9.11084,  6.61016,\n",
       "       10.78206,  8.82018,  7.72504,  9.88524,  8.1491 ,  7.78224,\n",
       "        5.22542,  5.5747 ,  9.43302,  8.31674,  4.92484, 12.62048,\n",
       "        7.16148,  5.94936,  7.26988,  5.79258, 11.0287 ,  8.47596,\n",
       "        6.53014,  3.99874,  8.57228,  4.85444,  6.1115 ,  9.63708,\n",
       "        6.7149 ,  5.55828,  7.26302,  8.52514,  5.77876, 10.68824,\n",
       "        6.55114,  8.76796,  2.61334,  7.51478, 11.05548,  7.51358,\n",
       "       11.28618,  9.24614,  8.6507 ,  7.25556,  6.92102,  6.8167 ,\n",
       "        3.2489 ,  5.26068,  7.80914, 11.28618,  6.58142,  6.9335 ,\n",
       "        6.02652,  8.654  ,  5.7752 ,  7.25712,  8.37468,  3.76766,\n",
       "        4.20582, 11.14714, 11.8716 ,  7.67286,  6.72842, 10.91088,\n",
       "        4.25924,  7.8618 ,  6.1235 ,  7.3256 ])"
      ]
     },
     "execution_count": 20,
     "metadata": {},
     "output_type": "execute_result"
    }
   ],
   "source": [
    "y_pred"
   ]
  },
  {
   "cell_type": "code",
   "execution_count": 21,
   "id": "67fa5c97-2350-4594-ae04-d6e2031a55ce",
   "metadata": {},
   "outputs": [
    {
     "data": {
      "text/plain": [
       "0.4420660714285739"
      ]
     },
     "execution_count": 21,
     "metadata": {},
     "output_type": "execute_result"
    }
   ],
   "source": [
    "mean_absolute_error(y_train, y_pred)"
   ]
  },
  {
   "cell_type": "code",
   "execution_count": 22,
   "id": "7cac9527-10e8-400d-a9f2-cde46736927a",
   "metadata": {},
   "outputs": [
    {
     "data": {
      "text/plain": [
       "0.2983570006242873"
      ]
     },
     "execution_count": 22,
     "metadata": {},
     "output_type": "execute_result"
    }
   ],
   "source": [
    "mean_squared_error(y_train, y_pred)"
   ]
  },
  {
   "cell_type": "code",
   "execution_count": 23,
   "id": "dda9d3d3-908e-4237-897e-86b75e0ccda4",
   "metadata": {},
   "outputs": [
    {
     "data": {
      "text/plain": [
       "0.9639556657766921"
      ]
     },
     "execution_count": 23,
     "metadata": {},
     "output_type": "execute_result"
    }
   ],
   "source": [
    "#Accuracy = 96%\n",
    "r2_score(y_train, y_pred)"
   ]
  },
  {
   "cell_type": "code",
   "execution_count": 24,
   "id": "c636dc66-a01d-430c-9750-d7448a05e800",
   "metadata": {},
   "outputs": [],
   "source": [
    "#Made a prediction variable for test set \n",
    "ytest_pred = rfr.predict(X_test)"
   ]
  },
  {
   "cell_type": "code",
   "execution_count": 25,
   "id": "d1a94fd0-03ad-47c1-b0a6-4838d01fd7b4",
   "metadata": {},
   "outputs": [
    {
     "data": {
      "text/plain": [
       "array([ 3.69292,  6.43696,  5.9054 ,  5.55706,  6.02246,  4.46828,\n",
       "       10.31928,  6.15098, 10.15534,  5.93416,  9.8927 ,  4.5353 ,\n",
       "        5.97984,  5.74618,  6.92216,  6.76874,  6.14124,  9.4276 ,\n",
       "       11.55504,  6.2512 ,  7.0009 ,  9.33664,  6.50664,  4.4656 ,\n",
       "        7.1076 ,  7.35094,  8.94832,  6.6402 ,  6.29752,  3.8548 ,\n",
       "        4.89078,  4.86462,  9.4532 ,  6.00662,  7.72246,  4.8256 ,\n",
       "        5.4897 , 10.6179 ,  7.7607 ,  7.66998,  6.81346, 11.79626,\n",
       "       11.02798,  4.99044,  6.6882 ,  6.13726,  9.54758,  6.77714,\n",
       "        5.98732,  6.41184, 10.71408,  7.42916, 10.34636,  7.00438,\n",
       "        6.49706, 10.15412,  9.24004,  5.0533 ,  4.94574,  7.38082,\n",
       "        5.4991 , 10.54166,  7.95796,  5.60276,  5.95246,  5.20214,\n",
       "        5.0722 ,  7.16994,  8.156  ,  7.3962 ,  6.6828 ,  6.83284,\n",
       "        6.60308,  6.68608,  5.03632,  4.44866,  4.89986,  8.16392,\n",
       "        8.61636,  5.3651 ,  7.84262,  6.87468, 12.17652,  6.33034,\n",
       "        7.02918,  5.12584,  4.7524 ,  5.9941 ,  4.84734,  8.90772,\n",
       "        5.82582,  8.59384, 11.03942,  8.86712, 12.13024,  5.41828,\n",
       "        5.41712,  8.55194,  7.62186,  5.70792,  9.47446,  5.22528,\n",
       "        7.759  ,  6.64236,  4.8243 ,  6.73292,  9.6681 ,  3.9082 ,\n",
       "        7.22716,  4.01966,  8.28366,  5.28232,  7.65068,  6.22806,\n",
       "        9.43762,  5.78182,  8.93022,  9.69178,  8.65826,  4.96278])"
      ]
     },
     "execution_count": 25,
     "metadata": {},
     "output_type": "execute_result"
    }
   ],
   "source": [
    "ytest_pred"
   ]
  },
  {
   "cell_type": "code",
   "execution_count": 26,
   "id": "f7b63584-d789-455e-b7b6-134056737c26",
   "metadata": {},
   "outputs": [
    {
     "data": {
      "text/plain": [
       "1.228176333333335"
      ]
     },
     "execution_count": 26,
     "metadata": {},
     "output_type": "execute_result"
    }
   ],
   "source": [
    "mean_absolute_error(y_test, ytest_pred)"
   ]
  },
  {
   "cell_type": "code",
   "execution_count": 27,
   "id": "b25c7dfc-5bd5-49a0-ad65-78e2a1673f44",
   "metadata": {},
   "outputs": [
    {
     "data": {
      "text/plain": [
       "2.4853235525266753"
      ]
     },
     "execution_count": 27,
     "metadata": {},
     "output_type": "execute_result"
    }
   ],
   "source": [
    "mean_squared_error(y_test, ytest_pred)"
   ]
  },
  {
   "cell_type": "code",
   "execution_count": 28,
   "id": "8639a266-8c58-4598-b909-aba09094d871",
   "metadata": {},
   "outputs": [
    {
     "data": {
      "text/plain": [
       "0.6219193971448258"
      ]
     },
     "execution_count": 28,
     "metadata": {},
     "output_type": "execute_result"
    }
   ],
   "source": [
    "#Accuracy Score = 61%\n",
    "r2_score(y_test, ytest_pred)"
   ]
  },
  {
   "cell_type": "code",
   "execution_count": 29,
   "id": "bfc9b8d7-a234-4737-8184-e03dd5a90912",
   "metadata": {},
   "outputs": [
    {
     "name": "stdout",
     "output_type": "stream",
     "text": [
      "Mean Squared Error: 2.4853235525266753\n",
      "R² Score: 0.6219193971448258\n"
     ]
    }
   ],
   "source": [
    "mse = mean_squared_error(y_test, ytest_pred)\n",
    "r2 = r2_score(y_test, ytest_pred)\n",
    "\n",
    "print(\"Mean Squared Error:\", mse)\n",
    "print(\"R² Score:\", r2)"
   ]
  },
  {
   "cell_type": "code",
   "execution_count": 30,
   "id": "0cb05155-250d-4a9c-b009-31a2295e60b6",
   "metadata": {},
   "outputs": [
    {
     "data": {
      "image/png": "[encoded data removed]",
      "text/plain": [
       "<Figure size 1000x600 with 1 Axes>"
      ]
     },
     "metadata": {},
     "output_type": "display_data"
    }
   ],
   "source": [
    "#Plotting the observed and predicted data\n",
    "plt.rcParams['figure.figsize'] = (10,6)\n",
    "x_ax = range(len(X_test))\n",
    "#Plotting\n",
    "plt.plot(x_ax, y_test, label = \"Observed\", color = 'k', linestyle = '-')\n",
    "plt.plot(x_ax, ytest_pred, label = 'Predicted', color = 'b', linestyle = '--')\n",
    "plt.ylabel('Sales')\n",
    "plt.xlabel(\"Testing Sample Data\")\n",
    "plt.legend(bbox_to_anchor = (0.5, -0.2), loc = 'lower center', ncol = 2, frameon= False)\n",
    "plt.show()"
   ]
  },
  {
   "cell_type": "code",
   "execution_count": 31,
   "id": "4292257a-8aad-46e8-bc42-34f19566e860",
   "metadata": {},
   "outputs": [
    {
     "name": "stderr",
     "output_type": "stream",
     "text": [
      "/opt/anaconda3/lib/python3.11/site-packages/sklearn/base.py:439: UserWarning: X does not have valid feature names, but RandomForestRegressor was fitted with feature names\n",
      "  warnings.warn(\n"
     ]
    },
    {
     "data": {
      "image/png": "[encoded data removed]",
      "text/plain": [
       "<Figure size 800x550 with 2 Axes>"
      ]
     },
     "metadata": {},
     "output_type": "display_data"
    },
    {
     "data": {
      "text/plain": [
       "<Axes: title={'center': 'Residuals for RandomForestRegressor Model'}, xlabel='Predicted Value', ylabel='Residuals'>"
      ]
     },
     "execution_count": 31,
     "metadata": {},
     "output_type": "execute_result"
    }
   ],
   "source": [
    "#Plotting the residuals\n",
    "from yellowbrick.regressor import ResidualsPlot\n",
    "visualizer = ResidualsPlot(rfr)\n",
    "visualizer.fit(X_train,y_train)\n",
    "visualizer.score(X_test, y_test)\n",
    "visualizer.poof()"
   ]
  },
  {
   "cell_type": "markdown",
   "id": "8827223b-8273-4664-96c0-a76bc4240756",
   "metadata": {},
   "source": [
    "## __GridSearchCV__"
   ]
  },
  {
   "cell_type": "code",
   "execution_count": 32,
   "id": "889089fe-0ed4-42ac-beff-1355944ee7f3",
   "metadata": {},
   "outputs": [],
   "source": [
    "from sklearn.model_selection import GridSearchCV\n",
    "param_grid = {\n",
    "    'n_estimators': [500,600,700], \n",
    "    'max_depth': [5,10,15],\n",
    "    'min_samples_split': [2,5,10],\n",
    "    'min_samples_leaf': [1,2,4]\n",
    "}\n",
    "\n",
    "#Difference between min_samples_split & min_samples_leaf: \n",
    "# min_samples_split: Determines the minimum number of samples required to split an internal node during tree construction.\n",
    "# min_samples_leaf: Specifies the minimum number of samples allowed in a leaf node (terminal node). "
   ]
  },
  {
   "cell_type": "code",
   "execution_count": 33,
   "id": "fb2cd7c6-7aff-4abb-be5d-4d618b522b4e",
   "metadata": {},
   "outputs": [],
   "source": [
    "rfr_cv = GridSearchCV(estimator= rfr, param_grid=param_grid, cv=2, scoring= \"neg_mean_squared_error\", n_jobs= -1)"
   ]
  },
  {
   "cell_type": "code",
   "execution_count": 34,
   "id": "6ebb268d-8c3c-4b4f-9d07-934cfe897544",
   "metadata": {},
   "outputs": [
    {
     "data": {
      "text/html": [
       "<style>#sk-container-id-2 {color: black;background-color: white;}#sk-container-id-2 pre{padding: 0;}#sk-container-id-2 div.sk-toggleable {background-color: white;}#sk-container-id-2 label.sk-toggleable__label {cursor: pointer;display: block;width: 100%;margin-bottom: 0;padding: 0.3em;box-sizing: border-box;text-align: center;}#sk-container-id-2 label.sk-toggleable__label-arrow:before {content: \"▸\";float: left;margin-right: 0.25em;color: #696969;}#sk-container-id-2 label.sk-toggleable__label-arrow:hover:before {color: black;}#sk-container-id-2 div.sk-estimator:hover label.sk-toggleable__label-arrow:before {color: black;}#sk-container-id-2 div.sk-toggleable__content {max-height: 0;max-width: 0;overflow: hidden;text-align: left;background-color: #f0f8ff;}#sk-container-id-2 div.sk-toggleable__content pre {margin: 0.2em;color: black;border-radius: 0.25em;background-color: #f0f8ff;}#sk-container-id-2 input.sk-toggleable__control:checked~div.sk-toggleable__content {max-height: 200px;max-width: 100%;overflow: auto;}#sk-container-id-2 input.sk-toggleable__control:checked~label.sk-toggleable__label-arrow:before {content: \"▾\";}#sk-container-id-2 div.sk-estimator input.sk-toggleable__control:checked~label.sk-toggleable__label {background-color: #d4ebff;}#sk-container-id-2 div.sk-label input.sk-toggleable__control:checked~label.sk-toggleable__label {background-color: #d4ebff;}#sk-container-id-2 input.sk-hidden--visually {border: 0;clip: rect(1px 1px 1px 1px);clip: rect(1px, 1px, 1px, 1px);height: 1px;margin: -1px;overflow: hidden;padding: 0;position: absolute;width: 1px;}#sk-container-id-2 div.sk-estimator {font-family: monospace;background-color: #f0f8ff;border: 1px dotted black;border-radius: 0.25em;box-sizing: border-box;margin-bottom: 0.5em;}#sk-container-id-2 div.sk-estimator:hover {background-color: #d4ebff;}#sk-container-id-2 div.sk-parallel-item::after {content: \"\";width: 100%;border-bottom: 1px solid gray;flex-grow: 1;}#sk-container-id-2 div.sk-label:hover label.sk-toggleable__label {background-color: #d4ebff;}#sk-container-id-2 div.sk-serial::before {content: \"\";position: absolute;border-left: 1px solid gray;box-sizing: border-box;top: 0;bottom: 0;left: 50%;z-index: 0;}#sk-container-id-2 div.sk-serial {display: flex;flex-direction: column;align-items: center;background-color: white;padding-right: 0.2em;padding-left: 0.2em;position: relative;}#sk-container-id-2 div.sk-item {position: relative;z-index: 1;}#sk-container-id-2 div.sk-parallel {display: flex;align-items: stretch;justify-content: center;background-color: white;position: relative;}#sk-container-id-2 div.sk-item::before, #sk-container-id-2 div.sk-parallel-item::before {content: \"\";position: absolute;border-left: 1px solid gray;box-sizing: border-box;top: 0;bottom: 0;left: 50%;z-index: -1;}#sk-container-id-2 div.sk-parallel-item {display: flex;flex-direction: column;z-index: 1;position: relative;background-color: white;}#sk-container-id-2 div.sk-parallel-item:first-child::after {align-self: flex-end;width: 50%;}#sk-container-id-2 div.sk-parallel-item:last-child::after {align-self: flex-start;width: 50%;}#sk-container-id-2 div.sk-parallel-item:only-child::after {width: 0;}#sk-container-id-2 div.sk-dashed-wrapped {border: 1px dashed gray;margin: 0 0.4em 0.5em 0.4em;box-sizing: border-box;padding-bottom: 0.4em;background-color: white;}#sk-container-id-2 div.sk-label label {font-family: monospace;font-weight: bold;display: inline-block;line-height: 1.2em;}#sk-container-id-2 div.sk-label-container {text-align: center;}#sk-container-id-2 div.sk-container {/* jupyter's `normalize.less` sets `[hidden] { display: none; }` but bootstrap.min.css set `[hidden] { display: none !important; }` so we also need the `!important` here to be able to override the default hidden behavior on the sphinx rendered scikit-learn.org. See: https://github.com/scikit-learn/scikit-learn/issues/21755 */display: inline-block !important;position: relative;}#sk-container-id-2 div.sk-text-repr-fallback {display: none;}</style><div id=\"sk-container-id-2\" class=\"sk-top-container\"><div class=\"sk-text-repr-fallback\"><pre>GridSearchCV(cv=2, estimator=RandomForestRegressor(n_estimators=500), n_jobs=-1,\n",
       "             param_grid={&#x27;max_depth&#x27;: [5, 10, 15],\n",
       "                         &#x27;min_samples_leaf&#x27;: [1, 2, 4],\n",
       "                         &#x27;min_samples_split&#x27;: [2, 5, 10],\n",
       "                         &#x27;n_estimators&#x27;: [500, 600, 700]},\n",
       "             scoring=&#x27;neg_mean_squared_error&#x27;)</pre><b>In a Jupyter environment, please rerun this cell to show the HTML representation or trust the notebook. <br />On GitHub, the HTML representation is unable to render, please try loading this page with nbviewer.org.</b></div><div class=\"sk-container\" hidden><div class=\"sk-item sk-dashed-wrapped\"><div class=\"sk-label-container\"><div class=\"sk-label sk-toggleable\"><input class=\"sk-toggleable__control sk-hidden--visually\" id=\"sk-estimator-id-2\" type=\"checkbox\" ><label for=\"sk-estimator-id-2\" class=\"sk-toggleable__label sk-toggleable__label-arrow\">GridSearchCV</label><div class=\"sk-toggleable__content\"><pre>GridSearchCV(cv=2, estimator=RandomForestRegressor(n_estimators=500), n_jobs=-1,\n",
       "             param_grid={&#x27;max_depth&#x27;: [5, 10, 15],\n",
       "                         &#x27;min_samples_leaf&#x27;: [1, 2, 4],\n",
       "                         &#x27;min_samples_split&#x27;: [2, 5, 10],\n",
       "                         &#x27;n_estimators&#x27;: [500, 600, 700]},\n",
       "             scoring=&#x27;neg_mean_squared_error&#x27;)</pre></div></div></div><div class=\"sk-parallel\"><div class=\"sk-parallel-item\"><div class=\"sk-item\"><div class=\"sk-label-container\"><div class=\"sk-label sk-toggleable\"><input class=\"sk-toggleable__control sk-hidden--visually\" id=\"sk-estimator-id-3\" type=\"checkbox\" ><label for=\"sk-estimator-id-3\" class=\"sk-toggleable__label sk-toggleable__label-arrow\">estimator: RandomForestRegressor</label><div class=\"sk-toggleable__content\"><pre>RandomForestRegressor(n_estimators=500)</pre></div></div></div><div class=\"sk-serial\"><div class=\"sk-item\"><div class=\"sk-estimator sk-toggleable\"><input class=\"sk-toggleable__control sk-hidden--visually\" id=\"sk-estimator-id-4\" type=\"checkbox\" ><label for=\"sk-estimator-id-4\" class=\"sk-toggleable__label sk-toggleable__label-arrow\">RandomForestRegressor</label><div class=\"sk-toggleable__content\"><pre>RandomForestRegressor(n_estimators=500)</pre></div></div></div></div></div></div></div></div></div></div>"
      ],
      "text/plain": [
       "GridSearchCV(cv=2, estimator=RandomForestRegressor(n_estimators=500), n_jobs=-1,\n",
       "             param_grid={'max_depth': [5, 10, 15],\n",
       "                         'min_samples_leaf': [1, 2, 4],\n",
       "                         'min_samples_split': [2, 5, 10],\n",
       "                         'n_estimators': [500, 600, 700]},\n",
       "             scoring='neg_mean_squared_error')"
      ]
     },
     "execution_count": 34,
     "metadata": {},
     "output_type": "execute_result"
    }
   ],
   "source": [
    "rfr_cv.fit(X_train, y_train)"
   ]
  },
  {
   "cell_type": "code",
   "execution_count": 35,
   "id": "e9e4e4fb-ca3f-4322-9cd7-23256e0e9a0a",
   "metadata": {},
   "outputs": [],
   "source": [
    "yt_pred = rfr_cv.predict(X_test)"
   ]
  },
  {
   "cell_type": "code",
   "execution_count": 36,
   "id": "58e773ec-f86d-4e14-b2c5-2d92f35512cc",
   "metadata": {},
   "outputs": [
    {
     "data": {
      "text/plain": [
       "1.221326444820716"
      ]
     },
     "execution_count": 36,
     "metadata": {},
     "output_type": "execute_result"
    }
   ],
   "source": [
    "mean_absolute_error(y_test,yt_pred)"
   ]
  },
  {
   "cell_type": "code",
   "execution_count": 37,
   "id": "d6eb92b4-e637-4a57-a7dd-a9ba6568800b",
   "metadata": {},
   "outputs": [
    {
     "data": {
      "text/plain": [
       "2.456041810804414"
      ]
     },
     "execution_count": 37,
     "metadata": {},
     "output_type": "execute_result"
    }
   ],
   "source": [
    "mean_squared_error(y_test, yt_pred)"
   ]
  },
  {
   "cell_type": "code",
   "execution_count": 38,
   "id": "e05a4a9f-f749-4fab-a93a-edd93f2fe87a",
   "metadata": {},
   "outputs": [
    {
     "data": {
      "text/plain": [
       "0.6263738910282266"
      ]
     },
     "execution_count": 38,
     "metadata": {},
     "output_type": "execute_result"
    }
   ],
   "source": [
    "r2_score(y_test, yt_pred)"
   ]
  },
  {
   "cell_type": "code",
   "execution_count": 39,
   "id": "ac6ced6f-1c05-4196-bf14-daee0393bdb1",
   "metadata": {},
   "outputs": [
    {
     "name": "stdout",
     "output_type": "stream",
     "text": [
      "Best parameters: {'max_depth': 10, 'min_samples_leaf': 1, 'min_samples_split': 2, 'n_estimators': 700}\n"
     ]
    }
   ],
   "source": [
    "best_params = rfr_cv.best_params_\n",
    "print(\"Best parameters:\", best_params)"
   ]
  },
  {
   "cell_type": "code",
   "execution_count": 40,
   "id": "45e56504-fa6b-420a-87ca-fac3aba90a7e",
   "metadata": {},
   "outputs": [
    {
     "data": {
      "text/plain": [
       "-2.8927176064053506"
      ]
     },
     "execution_count": 40,
     "metadata": {},
     "output_type": "execute_result"
    }
   ],
   "source": [
    "rfr_cv.best_score_"
   ]
  },
  {
   "cell_type": "code",
   "execution_count": 41,
   "id": "daff2400-548e-494f-bef1-6dce9d2999d4",
   "metadata": {},
   "outputs": [],
   "source": [
    "#The K-fold CV\n",
    "from sklearn.model_selection import cross_val_score"
   ]
  },
  {
   "cell_type": "code",
   "execution_count": 42,
   "id": "53481a2d-9429-47d6-9393-fe3e9ddeefef",
   "metadata": {},
   "outputs": [
    {
     "data": {
      "text/plain": [
       "array([-2.19308317, -2.8835012 , -2.36947914, -1.84090749, -1.75223867,\n",
       "       -3.42745026, -1.75621912, -2.19035592, -2.03631532, -3.36665974])"
      ]
     },
     "execution_count": 42,
     "metadata": {},
     "output_type": "execute_result"
    }
   ],
   "source": [
    "#training model cv \n",
    "score_train = cross_val_score(rfr, X_train, y_train, scoring = 'neg_mean_squared_error', cv = 10)\n",
    "score_train"
   ]
  },
  {
   "cell_type": "code",
   "execution_count": 43,
   "id": "1923098e-ec59-474a-8ea3-8dbab8a87108",
   "metadata": {},
   "outputs": [
    {
     "name": "stdout",
     "output_type": "stream",
     "text": [
      "2.381621004044286\n"
     ]
    }
   ],
   "source": [
    "#Mean Score \n",
    "from numpy import absolute\n",
    "print(absolute(np.mean(score_train)))"
   ]
  },
  {
   "cell_type": "code",
   "execution_count": 44,
   "id": "430873f1-e3bb-414c-aac2-baed6306575e",
   "metadata": {},
   "outputs": [
    {
     "data": {
      "text/plain": [
       "array([-4.00552958, -2.86613946, -4.63993831, -1.83992064, -0.80612326,\n",
       "       -1.22821021, -1.50736722, -6.11757926, -3.18549978, -2.02042831])"
      ]
     },
     "execution_count": 44,
     "metadata": {},
     "output_type": "execute_result"
    }
   ],
   "source": [
    "#Test Model CV\n",
    "score_test = cross_val_score(rfr, X_test, y_test, scoring = \"neg_mean_squared_error\", cv = 10)\n",
    "score_test"
   ]
  },
  {
   "cell_type": "code",
   "execution_count": 45,
   "id": "064c85a1-0555-48d1-b9ec-0f0edd13053e",
   "metadata": {},
   "outputs": [
    {
     "name": "stdout",
     "output_type": "stream",
     "text": [
      "2.8216736021933317\n"
     ]
    }
   ],
   "source": [
    "print(absolute(np.mean(score_test)))"
   ]
  },
  {
   "cell_type": "markdown",
   "id": "e02cc045-cf90-4e26-a355-9a81ea693b1e",
   "metadata": {},
   "source": [
    "## __Feature Rankings__"
   ]
  },
  {
   "cell_type": "code",
   "execution_count": 46,
   "id": "759c2ce1-a062-48a0-a4cf-a569088ddca6",
   "metadata": {},
   "outputs": [],
   "source": [
    "#Random Forest Feature Ranking\n",
    "from sklearn.pipeline import Pipeline\n",
    "feature_list = list(X.columns)\n",
    "f_importance = pd.Series(rfr.feature_importances_, index = feature_list).sort_values(ascending = False)"
   ]
  },
  {
   "cell_type": "code",
   "execution_count": 47,
   "id": "ca8d30ea-e0ab-42f7-9428-9c014e18369b",
   "metadata": {},
   "outputs": [
    {
     "name": "stdout",
     "output_type": "stream",
     "text": [
      "ShelveLoc_rank    0.313533\n",
      "Price             0.302604\n",
      "CompPrice         0.128738\n",
      "Age               0.102182\n",
      "Income            0.078908\n",
      "Advertising       0.074035\n",
      "intercept         0.000000\n",
      "dtype: float64\n"
     ]
    }
   ],
   "source": [
    "print(f_importance)"
   ]
  },
  {
   "cell_type": "code",
   "execution_count": 48,
   "id": "1b179248-e36b-4b97-b8a3-811273422cb9",
   "metadata": {},
   "outputs": [
    {
     "data": {
      "text/html": [
       "<div>\n",
       "<style scoped>\n",
       "    .dataframe tbody tr th:only-of-type {\n",
       "        vertical-align: middle;\n",
       "    }\n",
       "\n",
       "    .dataframe tbody tr th {\n",
       "        vertical-align: top;\n",
       "    }\n",
       "\n",
       "    .dataframe thead th {\n",
       "        text-align: right;\n",
       "    }\n",
       "</style>\n",
       "<table border=\"1\" class=\"dataframe\">\n",
       "  <thead>\n",
       "    <tr style=\"text-align: right;\">\n",
       "      <th></th>\n",
       "      <th>index</th>\n",
       "      <th>Feature Names</th>\n",
       "      <th>Importance</th>\n",
       "    </tr>\n",
       "  </thead>\n",
       "  <tbody>\n",
       "    <tr>\n",
       "      <th>0</th>\n",
       "      <td>0</td>\n",
       "      <td>ShelveLoc_rank</td>\n",
       "      <td>0.313533</td>\n",
       "    </tr>\n",
       "    <tr>\n",
       "      <th>1</th>\n",
       "      <td>2</td>\n",
       "      <td>Price</td>\n",
       "      <td>0.302604</td>\n",
       "    </tr>\n",
       "    <tr>\n",
       "      <th>2</th>\n",
       "      <td>5</td>\n",
       "      <td>CompPrice</td>\n",
       "      <td>0.128738</td>\n",
       "    </tr>\n",
       "    <tr>\n",
       "      <th>3</th>\n",
       "      <td>1</td>\n",
       "      <td>Age</td>\n",
       "      <td>0.102182</td>\n",
       "    </tr>\n",
       "    <tr>\n",
       "      <th>4</th>\n",
       "      <td>3</td>\n",
       "      <td>Income</td>\n",
       "      <td>0.078908</td>\n",
       "    </tr>\n",
       "    <tr>\n",
       "      <th>5</th>\n",
       "      <td>4</td>\n",
       "      <td>Advertising</td>\n",
       "      <td>0.074035</td>\n",
       "    </tr>\n",
       "    <tr>\n",
       "      <th>6</th>\n",
       "      <td>6</td>\n",
       "      <td>intercept</td>\n",
       "      <td>0.000000</td>\n",
       "    </tr>\n",
       "  </tbody>\n",
       "</table>\n",
       "</div>"
      ],
      "text/plain": [
       "   index   Feature Names  Importance\n",
       "0      0  ShelveLoc_rank    0.313533\n",
       "1      2           Price    0.302604\n",
       "2      5       CompPrice    0.128738\n",
       "3      1             Age    0.102182\n",
       "4      3          Income    0.078908\n",
       "5      4     Advertising    0.074035\n",
       "6      6       intercept    0.000000"
      ]
     },
     "execution_count": 48,
     "metadata": {},
     "output_type": "execute_result"
    }
   ],
   "source": [
    "feature_list = list(X.columns)\n",
    "num_features = len(feature_list)\n",
    "importance = rfr.feature_importances_\n",
    "\n",
    "df_importance = pd.DataFrame({\"Feature Names\":feature_list, \"Importance\": importance})\n",
    "df_importance = df_importance.sort_values('Importance', ascending = False).reset_index()\n",
    "df_importance"
   ]
  },
  {
   "cell_type": "code",
   "execution_count": 49,
   "id": "75b4de57-cfce-44ea-8780-7d4e147c5178",
   "metadata": {},
   "outputs": [
    {
     "data": {
      "image/png": "[encoded data removed]",
      "text/plain": [
       "<Figure size 2500x1000 with 1 Axes>"
      ]
     },
     "metadata": {},
     "output_type": "display_data"
    }
   ],
   "source": [
    "sns.set_theme(style=\"whitegrid\")\n",
    "plt.figure(figsize=(25, 10))\n",
    "sns.barplot(data= df_importance.iloc[:,:] , x = 'Feature Names', y= 'Importance')\n",
    "plt.show()"
   ]
  },
  {
   "cell_type": "markdown",
   "id": "a68f8e6c-d551-416a-a5ce-d8df5931b2c3",
   "metadata": {},
   "source": [
    "# __-------------------------------------------------------------------------------__"
   ]
  },
  {
   "cell_type": "markdown",
   "id": "43123e2b-a8ef-4574-afe3-788ea12bd5b6",
   "metadata": {},
   "source": [
    "## __Putting information into Linear Regression Model__"
   ]
  },
  {
   "cell_type": "code",
   "execution_count": 50,
   "id": "e5e3148b-8eca-46e2-b7fa-8db9fe7203a3",
   "metadata": {},
   "outputs": [],
   "source": [
    "x = df[['ShelveLoc_rank', 'Price', 'CompPrice', 'Age']]\n",
    "Y = df['Sales']"
   ]
  },
  {
   "cell_type": "code",
   "execution_count": 51,
   "id": "831f180d-ac70-47cc-b75b-6e20bd23371d",
   "metadata": {},
   "outputs": [],
   "source": [
    "x_train, x_test, Y_train, Y_test = train_test_split(x,Y,test_size= 0.30,random_state = 21)"
   ]
  },
  {
   "cell_type": "code",
   "execution_count": 52,
   "id": "e6700817-e36a-4b4c-a65d-ad578e8993e9",
   "metadata": {},
   "outputs": [],
   "source": [
    "from sklearn.linear_model import LinearRegression\n",
    "lm = LinearRegression()"
   ]
  },
  {
   "cell_type": "code",
   "execution_count": 53,
   "id": "c1309d1d-119b-4ce9-b41f-3783e05ee1e9",
   "metadata": {},
   "outputs": [
    {
     "data": {
      "text/html": [
       "<style>#sk-container-id-3 {color: black;background-color: white;}#sk-container-id-3 pre{padding: 0;}#sk-container-id-3 div.sk-toggleable {background-color: white;}#sk-container-id-3 label.sk-toggleable__label {cursor: pointer;display: block;width: 100%;margin-bottom: 0;padding: 0.3em;box-sizing: border-box;text-align: center;}#sk-container-id-3 label.sk-toggleable__label-arrow:before {content: \"▸\";float: left;margin-right: 0.25em;color: #696969;}#sk-container-id-3 label.sk-toggleable__label-arrow:hover:before {color: black;}#sk-container-id-3 div.sk-estimator:hover label.sk-toggleable__label-arrow:before {color: black;}#sk-container-id-3 div.sk-toggleable__content {max-height: 0;max-width: 0;overflow: hidden;text-align: left;background-color: #f0f8ff;}#sk-container-id-3 div.sk-toggleable__content pre {margin: 0.2em;color: black;border-radius: 0.25em;background-color: #f0f8ff;}#sk-container-id-3 input.sk-toggleable__control:checked~div.sk-toggleable__content {max-height: 200px;max-width: 100%;overflow: auto;}#sk-container-id-3 input.sk-toggleable__control:checked~label.sk-toggleable__label-arrow:before {content: \"▾\";}#sk-container-id-3 div.sk-estimator input.sk-toggleable__control:checked~label.sk-toggleable__label {background-color: #d4ebff;}#sk-container-id-3 div.sk-label input.sk-toggleable__control:checked~label.sk-toggleable__label {background-color: #d4ebff;}#sk-container-id-3 input.sk-hidden--visually {border: 0;clip: rect(1px 1px 1px 1px);clip: rect(1px, 1px, 1px, 1px);height: 1px;margin: -1px;overflow: hidden;padding: 0;position: absolute;width: 1px;}#sk-container-id-3 div.sk-estimator {font-family: monospace;background-color: #f0f8ff;border: 1px dotted black;border-radius: 0.25em;box-sizing: border-box;margin-bottom: 0.5em;}#sk-container-id-3 div.sk-estimator:hover {background-color: #d4ebff;}#sk-container-id-3 div.sk-parallel-item::after {content: \"\";width: 100%;border-bottom: 1px solid gray;flex-grow: 1;}#sk-container-id-3 div.sk-label:hover label.sk-toggleable__label {background-color: #d4ebff;}#sk-container-id-3 div.sk-serial::before {content: \"\";position: absolute;border-left: 1px solid gray;box-sizing: border-box;top: 0;bottom: 0;left: 50%;z-index: 0;}#sk-container-id-3 div.sk-serial {display: flex;flex-direction: column;align-items: center;background-color: white;padding-right: 0.2em;padding-left: 0.2em;position: relative;}#sk-container-id-3 div.sk-item {position: relative;z-index: 1;}#sk-container-id-3 div.sk-parallel {display: flex;align-items: stretch;justify-content: center;background-color: white;position: relative;}#sk-container-id-3 div.sk-item::before, #sk-container-id-3 div.sk-parallel-item::before {content: \"\";position: absolute;border-left: 1px solid gray;box-sizing: border-box;top: 0;bottom: 0;left: 50%;z-index: -1;}#sk-container-id-3 div.sk-parallel-item {display: flex;flex-direction: column;z-index: 1;position: relative;background-color: white;}#sk-container-id-3 div.sk-parallel-item:first-child::after {align-self: flex-end;width: 50%;}#sk-container-id-3 div.sk-parallel-item:last-child::after {align-self: flex-start;width: 50%;}#sk-container-id-3 div.sk-parallel-item:only-child::after {width: 0;}#sk-container-id-3 div.sk-dashed-wrapped {border: 1px dashed gray;margin: 0 0.4em 0.5em 0.4em;box-sizing: border-box;padding-bottom: 0.4em;background-color: white;}#sk-container-id-3 div.sk-label label {font-family: monospace;font-weight: bold;display: inline-block;line-height: 1.2em;}#sk-container-id-3 div.sk-label-container {text-align: center;}#sk-container-id-3 div.sk-container {/* jupyter's `normalize.less` sets `[hidden] { display: none; }` but bootstrap.min.css set `[hidden] { display: none !important; }` so we also need the `!important` here to be able to override the default hidden behavior on the sphinx rendered scikit-learn.org. See: https://github.com/scikit-learn/scikit-learn/issues/21755 */display: inline-block !important;position: relative;}#sk-container-id-3 div.sk-text-repr-fallback {display: none;}</style><div id=\"sk-container-id-3\" class=\"sk-top-container\"><div class=\"sk-text-repr-fallback\"><pre>LinearRegression()</pre><b>In a Jupyter environment, please rerun this cell to show the HTML representation or trust the notebook. <br />On GitHub, the HTML representation is unable to render, please try loading this page with nbviewer.org.</b></div><div class=\"sk-container\" hidden><div class=\"sk-item\"><div class=\"sk-estimator sk-toggleable\"><input class=\"sk-toggleable__control sk-hidden--visually\" id=\"sk-estimator-id-5\" type=\"checkbox\" checked><label for=\"sk-estimator-id-5\" class=\"sk-toggleable__label sk-toggleable__label-arrow\">LinearRegression</label><div class=\"sk-toggleable__content\"><pre>LinearRegression()</pre></div></div></div></div></div>"
      ],
      "text/plain": [
       "LinearRegression()"
      ]
     },
     "execution_count": 53,
     "metadata": {},
     "output_type": "execute_result"
    }
   ],
   "source": [
    "lm.fit(x_train, Y_train)"
   ]
  },
  {
   "cell_type": "code",
   "execution_count": 54,
   "id": "2f58b886-08c7-4f78-bc93-1570cb91928a",
   "metadata": {},
   "outputs": [
    {
     "data": {
      "text/plain": [
       "0.768886679917056"
      ]
     },
     "execution_count": 54,
     "metadata": {},
     "output_type": "execute_result"
    }
   ],
   "source": [
    "lm.score(x_train, Y_train)"
   ]
  },
  {
   "cell_type": "code",
   "execution_count": 55,
   "id": "fd8103fe-3752-4999-a73d-79bfd25932c0",
   "metadata": {},
   "outputs": [],
   "source": [
    "y2_pred =lm.predict(x_train)"
   ]
  },
  {
   "cell_type": "code",
   "execution_count": 56,
   "id": "e7bcfa9c-adbb-48f4-ae89-2ac2c7248064",
   "metadata": {},
   "outputs": [
    {
     "data": {
      "text/plain": [
       "0.768886679917056"
      ]
     },
     "execution_count": 56,
     "metadata": {},
     "output_type": "execute_result"
    }
   ],
   "source": [
    "r2_score(Y_train,y2_pred)"
   ]
  },
  {
   "cell_type": "code",
   "execution_count": 57,
   "id": "7355d9bb-a2f8-4e4d-a524-b77df081f10c",
   "metadata": {},
   "outputs": [],
   "source": [
    "ytest2_pred = lm.predict(x_test)"
   ]
  },
  {
   "cell_type": "code",
   "execution_count": 58,
   "id": "0c550174-2788-46b8-9a4a-3cd6a230e668",
   "metadata": {},
   "outputs": [
    {
     "data": {
      "text/plain": [
       "0.7020163669712289"
      ]
     },
     "execution_count": 58,
     "metadata": {},
     "output_type": "execute_result"
    }
   ],
   "source": [
    "r2_score(y_test, ytest2_pred)"
   ]
  },
  {
   "cell_type": "code",
   "execution_count": 59,
   "id": "9c3a3f7a-2ab4-4bc9-9e00-178bca6df3c9",
   "metadata": {},
   "outputs": [
    {
     "name": "stdout",
     "output_type": "stream",
     "text": [
      "                            OLS Regression Results                            \n",
      "==============================================================================\n",
      "Dep. Variable:                  Sales   R-squared:                       0.769\n",
      "Model:                            OLS   Adj. R-squared:                  0.766\n",
      "Method:                 Least Squares   F-statistic:                     228.7\n",
      "Date:                Thu, 01 Aug 2024   Prob (F-statistic):           3.58e-86\n",
      "Time:                        10:22:58   Log-Likelihood:                -488.12\n",
      "No. Observations:                 280   AIC:                             986.2\n",
      "Df Residuals:                     275   BIC:                             1004.\n",
      "Df Model:                           4                                         \n",
      "Covariance Type:            nonrobust                                         \n",
      "==================================================================================\n",
      "                     coef    std err          t      P>|t|      [0.025      0.975]\n",
      "----------------------------------------------------------------------------------\n",
      "const             10.5577      0.754     14.011      0.000       9.074      12.041\n",
      "ShelveLoc_rank     2.4971      0.122     20.410      0.000       2.256       2.738\n",
      "Price             -0.0937      0.004    -21.070      0.000      -0.102      -0.085\n",
      "CompPrice          0.0863      0.007     13.062      0.000       0.073       0.099\n",
      "Age               -0.0534      0.005    -10.137      0.000      -0.064      -0.043\n",
      "==============================================================================\n",
      "Omnibus:                        4.378   Durbin-Watson:                   1.995\n",
      "Prob(Omnibus):                  0.112   Jarque-Bera (JB):                4.365\n",
      "Skew:                           0.272   Prob(JB):                        0.113\n",
      "Kurtosis:                       2.720   Cond. No.                     1.61e+03\n",
      "==============================================================================\n",
      "\n",
      "Notes:\n",
      "[1] Standard Errors assume that the covariance matrix of the errors is correctly specified.\n",
      "[2] The condition number is large, 1.61e+03. This might indicate that there are\n",
      "strong multicollinearity or other numerical problems.\n"
     ]
    }
   ],
   "source": [
    "x = sm.add_constant(x_train)\n",
    "model = sm.OLS(Y_train, x)\n",
    "model_fit = model.fit()\n",
    "print(model_fit.summary())"
   ]
  },
  {
   "cell_type": "markdown",
   "id": "2deaf325-1a46-4ef3-94b1-b7de2aad15ed",
   "metadata": {},
   "source": [
    "# __-------------------------------------------------------------------------------__"
   ]
  },
  {
   "cell_type": "code",
   "execution_count": 60,
   "id": "117bf497-481c-452a-b216-990f9c44e7e3",
   "metadata": {},
   "outputs": [],
   "source": [
    "def predict(X, model):\n",
    "    # the built-in get_prediction tool returns an array, so we need to convert to a dataframe\n",
    "    predictions_df = pd.DataFrame(model.get_prediction(X).predicted, columns=['y_hat'], index=X.index)\n",
    "    return predictions_df['y_hat']\n",
    "\n",
    "def mse(y, y_hat):\n",
    "    # calculate the residual error for each individual record\n",
    "    resid = y - y_hat\n",
    "    # square the residual (hence \"squared error\")\n",
    "    sq_resid = resid**2\n",
    "    # calculate the sum of squared errors\n",
    "    SSR = sum(sq_resid)\n",
    "    # divide by the number of records to get the mean squared error\n",
    "    MSE = SSR / y.shape[0]\n",
    "    return MSE\n",
    "\n",
    "def gains_chart(actuals, predictions, num_buckets=10):\n",
    "    # Combine actuals and predictions into a single DataFrame\n",
    "    results = np.asarray([actuals, predictions]).T\n",
    "    # Sort by predictions descending\n",
    "    results = results[results[:,1].argsort()[::-1]]\n",
    "\n",
    "    # Calculate total number of instances and cumulative count\n",
    "    total_count = len(results)\n",
    "    cumulative_count = np.arange(1, total_count + 1) / total_count\n",
    "\n",
    "    # Calculate cumulative actuals\n",
    "    cumulative_actuals = np.cumsum(results[:,0])\n",
    "\n",
    "    # Calculate cumulative baseline (if predictions were randomly sorted)\n",
    "    baseline = np.arange(1, total_count + 1) * np.sum(actuals) / total_count\n",
    "\n",
    "    # Calculate gains\n",
    "    gains = cumulative_actuals / np.sum(actuals)\n",
    "\n",
    "    # Calculate AUC (Area Under the Gains Curve)\n",
    "    auc_score = auc(cumulative_count, gains)\n",
    "\n",
    "    # Plotting the gains chart\n",
    "    plt.figure(figsize=(10, 6))\n",
    "    plt.plot(cumulative_count, gains, marker='o', linestyle='-', color='b', label=f'Gains Curve (AUC = {auc_score:.2f})')\n",
    "    plt.plot([0, 1], [0, 1], linestyle='--', color='r', label='Baseline')\n",
    "    plt.title('Gains Chart for Regression Model')\n",
    "    plt.xlabel('Percentage of Population')\n",
    "    plt.ylabel('Cumulative Gains')\n",
    "    plt.legend()\n",
    "    plt.grid(True)\n",
    "    plt.tight_layout()\n",
    "    plt.show()\n",
    "\n",
    "    # Print AUC\n",
    "    print(f\"Area Under the Gains Curve (AUC): {auc_score:.4f}\")\n",
    "\n",
    "def lift_chart_regression(actuals, predictions, num_buckets=10):\n",
    "    # Create helper function for displaying lift charts\n",
    "    # Combine actuals and predictions into a single DataFrame\n",
    "    results = np.asarray([actuals, predictions]).T\n",
    "    # Sort by predictions descending\n",
    "    results = results[results[:,1].argsort()[::-1]]\n",
    "\n",
    "    # Calculate total number of instances and cumulative count\n",
    "    total_count = len(results)\n",
    "    cumulative_count = np.arange(1, total_count + 1) / total_count\n",
    "\n",
    "    # Calculate cumulative actuals\n",
    "    cumulative_actuals = np.cumsum(results[:,0])\n",
    "\n",
    "    # Calculate cumulative baseline (if predictions were randomly sorted)\n",
    "    baseline = np.arange(1, total_count + 1) * np.sum(actuals) / total_count\n",
    "\n",
    "    # Calculate lift\n",
    "    lift = cumulative_actuals / baseline\n",
    "\n",
    "    # Calculate cumulative lift\n",
    "    cumulative_lift = np.cumsum(lift)\n",
    "\n",
    "    # Plotting the lift chart\n",
    "    plt.figure(figsize=(10, 6))\n",
    "    plt.plot(cumulative_count, cumulative_lift, marker='o', linestyle='-', color='b', label='Lift Curve')\n",
    "    plt.plot([0, 1], [1, 1], linestyle='--', color='r', label='Baseline')\n",
    "    plt.title('Lift Chart for Regression Model')\n",
    "    plt.xlabel('Percentage of Population')\n",
    "    plt.ylabel('Lift')\n",
    "    plt.legend()\n",
    "    plt.grid(True)\n",
    "    plt.tight_layout()\n",
    "    plt.show()"
   ]
  },
  {
   "cell_type": "code",
   "execution_count": 61,
   "id": "b609b9e5-6a5f-4b5d-96e0-5adb66290f97",
   "metadata": {},
   "outputs": [],
   "source": [
    "e_model_test = sm.OLS(y_test, X_test)\n",
    "results = e_model_test.fit()"
   ]
  },
  {
   "cell_type": "code",
   "execution_count": 62,
   "id": "97a96dc2-5142-4ca5-81cb-9859dec7ee36",
   "metadata": {},
   "outputs": [
    {
     "ename": "NameError",
     "evalue": "name 'e_model' is not defined",
     "output_type": "error",
     "traceback": [
      "\u001b[0;31m---------------------------------------------------------------------------\u001b[0m",
      "\u001b[0;31mNameError\u001b[0m                                 Traceback (most recent call last)",
      "Cell \u001b[0;32mIn[62], line 1\u001b[0m\n\u001b[0;32m----> 1\u001b[0m results_train \u001b[38;5;241m=\u001b[39m e_model\u001b[38;5;241m.\u001b[39mfit()\n\u001b[1;32m      3\u001b[0m predict_train \u001b[38;5;241m=\u001b[39m predict(X_train, results_train)\n\u001b[1;32m      4\u001b[0m \u001b[38;5;28mprint\u001b[39m(\u001b[38;5;124m'\u001b[39m\u001b[38;5;124mmse train:\u001b[39m\u001b[38;5;124m'\u001b[39m, mse(y_train, predict_train))\n",
      "\u001b[0;31mNameError\u001b[0m: name 'e_model' is not defined"
     ]
    }
   ],
   "source": [
    "results_train = e_model.fit()\n",
    "\n",
    "predict_train = predict(X_train, results_train)\n",
    "print('mse train:', mse(y_train, predict_train))\n",
    "\n",
    "results_test = e_model_test.fit()\n",
    "predict_test = predict(X_test, results_test)\n",
    "print('mse test:', mse(y_test, predict_test))"
   ]
  },
  {
   "cell_type": "code",
   "execution_count": null,
   "id": "ec4aafb0-044c-4ebf-bee4-f73385b62394",
   "metadata": {},
   "outputs": [],
   "source": [
    "gains_chart(y_train, predict_train)"
   ]
  },
  {
   "cell_type": "code",
   "execution_count": null,
   "id": "a0ff3dd8-be8c-4713-b8ed-6c0e54f0bf62",
   "metadata": {},
   "outputs": [],
   "source": [
    "gains_chart(y_test, predict_test)"
   ]
  },
  {
   "cell_type": "code",
   "execution_count": null,
   "id": "aa8d0e38-5c67-44dd-9b8e-2d330b622548",
   "metadata": {},
   "outputs": [],
   "source": [
    "lift_chart_regression(y_train, predict_train)"
   ]
  },
  {
   "cell_type": "code",
   "execution_count": null,
   "id": "451eb25e-f588-452c-8c5f-0b7f5b430716",
   "metadata": {},
   "outputs": [],
   "source": [
    "lift_chart_regression(y_test, predict_test)"
   ]
  },
  {
   "cell_type": "code",
   "execution_count": null,
   "id": "06dad42f-9350-44c3-b128-11bd06661d55",
   "metadata": {},
   "outputs": [],
   "source": [
    "from sklearn.ensemble import RandomForestRegressor\n",
    "from sklearn.model_selection import train_test_split\n",
    "from sklearn.metrics import mean_squared_error\n",
    "from sklearn.metrics import r2_score\n",
    "import pandas as pd\n",
    "\n",
    "def train_random_forest_regressor(data, target_column, test_size=0.2, random_state=42, n_estimators=100):\n",
    "    \"\"\"\n",
    "    Train a Random Forest Regressor model.\n",
    "\n",
    "    Parameters:\n",
    "    data (pd.DataFrame): The input data.\n",
    "    target_column (str): The name of the target column.\n",
    "    test_size (float): The proportion of the dataset to include in the test split.\n",
    "    random_state (int): Controls the shuffling applied to the data before applying the split.\n",
    "    n_estimators (int): The number of trees in the forest.\n",
    "\n",
    "    Returns:\n",
    "    model (RandomForestRegressor): The trained Random Forest Regressor model.\n",
    "    mse (float): The mean squared error of the model on the test set.\n",
    "    \"\"\"\n",
    "    # Split the data into features and target\n",
    "    X = data.drop(columns=[target_column])\n",
    "    y = data[target_column]\n",
    "\n",
    "    # Split the data into training and testing sets\n",
    "    X_train, X_test, y_train, y_test = train_test_split(X, y, test_size=test_size, random_state=random_state)\n",
    "\n",
    "    # Initialize the Random Forest Regressor\n",
    "    model = RandomForestRegressor(n_estimators=n_estimators, random_state=random_state)\n",
    "\n",
    "    # Train the model\n",
    "    model.fit(X_train, y_train)\n",
    "\n",
    "    # Make predictions on the test set\n",
    "    y_pred = model.predict(X_test)\n",
    "\n",
    "    # Calculate the mean squared error\n",
    "    mse = mean_squared_error(y_test, y_pred)\n",
    "\n",
    "    return model, mse\n",
    "\n",
    "# Example usage:\n",
    "# data = pd.read_csv('your_dataset.csv')\n",
    "# model, mse = train_random_forest_regressor(data, target_column='target')\n",
    "# print(f\"Mean Squared Error: {mse}\")"
   ]
  },
  {
   "cell_type": "code",
   "execution_count": null,
   "id": "d8d6b7cb-fcc2-47eb-a095-8213d7bf8156",
   "metadata": {},
   "outputs": [],
   "source": [
    "from sklearn.metrics import mean_squared_error, r2_score\n",
    "\n",
    "def test_random_forest_regressor(model, X_test, y_test):\n",
    "    \"\"\"\n",
    "    Test a trained Random Forest Regressor model.\n",
    "\n",
    "    Parameters:\n",
    "    model (RandomForestRegressor): The trained Random Forest Regressor model.\n",
    "    X_test (pd.DataFrame): The test features.\n",
    "    y_test (pd.Series): The true values for the test set.\n",
    "\n",
    "    Returns:\n",
    "    mse (float): The mean squared error of the model on the test set.\n",
    "    r2 (float): The R-squared score of the model on the test set.\n",
    "    \"\"\"\n",
    "    # Make predictions on the test set\n",
    "    y_pred = model.predict(X_test)\n",
    "\n",
    "    # Calculate the mean squared error\n",
    "    mse = mean_squared_error(y_test, y_pred)\n",
    "\n",
    "    # Calculate the R-squared score\n",
    "    r2 = r2_score(y_test, y_pred)\n",
    "\n",
    "    return mse, r2\n",
    "\n",
    "# Example usage:\n",
    "# Assuming you have a trained model and test data\n",
    "# mse, r2 = test_random_forest_regressor(model, X_test, y_test)\n",
    "# print(f\"Mean Squared Error: {mse}\")\n",
    "# print(f\"R-squared: {r2}\")"
   ]
  }
 ],
 "metadata": {
  "kernelspec": {
   "display_name": "Python 3 (ipykernel)",
   "language": "python",
   "name": "python3"
  },
  "language_info": {
   "codemirror_mode": {
    "name": "ipython",
    "version": 3
   },
   "file_extension": ".py",
   "mimetype": "text/x-python",
   "name": "python",
   "nbconvert_exporter": "python",
   "pygments_lexer": "ipython3",
   "version": "3.11.7"
  }
 },
 "nbformat": 4,
 "nbformat_minor": 5
}
